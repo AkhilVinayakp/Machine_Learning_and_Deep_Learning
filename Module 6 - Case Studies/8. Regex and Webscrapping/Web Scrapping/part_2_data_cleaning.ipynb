{
 "cells": [
  {
   "cell_type": "markdown",
   "id": "c3e90969-24cc-42d6-a7b4-530f9a1ae21d",
   "metadata": {},
   "source": [
    "# Cleaning Raw Data"
   ]
  },
  {
   "cell_type": "code",
   "execution_count": null,
   "id": "23eed968-f671-4691-b2e5-fec79c9a2c28",
   "metadata": {},
   "outputs": [],
   "source": [
    "import numpy as np\n",
    "import pandas as pd\n",
    "\n",
    "import re"
   ]
  },
  {
   "cell_type": "code",
   "execution_count": null,
   "id": "baccf51f-ccae-4be9-9306-212932092b04",
   "metadata": {},
   "outputs": [],
   "source": [
    "df = pd.read_csv(\"data/laptop_raw_data.csv\")\n",
    "\n",
    "df.head()"
   ]
  },
  {
   "cell_type": "code",
   "execution_count": null,
   "id": "9cc12d12-f6f4-4ec6-b93e-821638219e3c",
   "metadata": {},
   "outputs": [],
   "source": [
    "print(df['Feature'][0])\n",
    "print(df['Feature'][2])\n",
    "print(df['Feature'][6])"
   ]
  },
  {
   "cell_type": "code",
   "execution_count": null,
   "id": "885f92d1-b627-4b5c-8d20-ce7ade78b88f",
   "metadata": {},
   "outputs": [],
   "source": [
    "# Processor Information\n",
    "\n",
    "regex = r'^(?:AMD|Intel|M1)[\\s\\w]+Processor'\n",
    "\n",
    "df['Processor'] = df['Feature'].apply(lambda x : re.findall(regex, x))"
   ]
  },
  {
   "cell_type": "code",
   "execution_count": null,
   "id": "34cdb791-d078-44ab-ad73-f7f1e68ae693",
   "metadata": {},
   "outputs": [],
   "source": [
    "df.head()"
   ]
  },
  {
   "cell_type": "code",
   "execution_count": null,
   "id": "15261c93-4ee2-4182-ac3e-81e7fe3147c0",
   "metadata": {},
   "outputs": [],
   "source": [
    "temp = df['Feature'][100]\n",
    "\n",
    "regex = r'\\d+\\sGB[\\s\\w]+RAM'\n",
    "\n",
    "fun = lambda x : re.findall(regex, x)\n",
    "\n",
    "print(fun(temp))"
   ]
  },
  {
   "cell_type": "code",
   "execution_count": null,
   "id": "9cd526f0-da07-45be-81e7-807ade7397cc",
   "metadata": {},
   "outputs": [],
   "source": [
    "# RAM Information\n",
    "\n",
    "regex = r'\\d+\\sGB[\\s\\w]+RAM'\n",
    "\n",
    "df['RAM'] = df['Feature'].apply(lambda x : re.findall(regex, x))"
   ]
  },
  {
   "cell_type": "code",
   "execution_count": null,
   "id": "9e7b1e88-a024-4bfe-8a4a-37dc914332e1",
   "metadata": {},
   "outputs": [],
   "source": [
    "df.head()"
   ]
  },
  {
   "cell_type": "code",
   "execution_count": null,
   "id": "4425a404-dd06-4150-afda-5c43d82087c6",
   "metadata": {},
   "outputs": [],
   "source": [
    "# OS \n",
    "\n",
    "regex = r'[\\d]+[\\s]bit[\\s\\w]+Operating System'\n",
    "\n",
    "df['OS'] = df['Feature'].apply(lambda x : re.findall(regex, x))"
   ]
  },
  {
   "cell_type": "code",
   "execution_count": null,
   "id": "190e9824-dc6a-4a45-ae86-6d7f6675ae7e",
   "metadata": {},
   "outputs": [],
   "source": [
    "df.head()"
   ]
  },
  {
   "cell_type": "code",
   "execution_count": null,
   "id": "7bc0f5f1-1ca9-444c-ab57-b7e7ead12786",
   "metadata": {},
   "outputs": [],
   "source": [
    "# Storage\n",
    "\n",
    "regex = r'[\\d]+\\s(?:GB|TB)\\s(?:HDD|SSD)'\n",
    "\n",
    "df['Storage'] = df['Feature'].apply(lambda x : re.findall(regex, x))"
   ]
  },
  {
   "cell_type": "code",
   "execution_count": null,
   "id": "9e391eb5-6581-4e57-9d4b-65907ad41d44",
   "metadata": {},
   "outputs": [],
   "source": [
    "df.head()"
   ]
  },
  {
   "cell_type": "code",
   "execution_count": null,
   "id": "2b23ee32-a797-45e1-a5de-3b11e052f7e9",
   "metadata": {},
   "outputs": [],
   "source": [
    "# Brand\n",
    "\n",
    "regex = r'^\\w+'\n",
    "\n",
    "df['Brand'] = df['Product'].apply(lambda x : re.findall(regex, x))"
   ]
  },
  {
   "cell_type": "code",
   "execution_count": null,
   "id": "96a1f508-35c9-4bbe-820e-4f3f1156168f",
   "metadata": {},
   "outputs": [],
   "source": [
    "df.head()"
   ]
  },
  {
   "cell_type": "markdown",
   "id": "2e7b1f89-fa9e-4d83-9ce2-a5fd7ceab1d8",
   "metadata": {},
   "source": [
    "# Cleaning the Data"
   ]
  },
  {
   "cell_type": "code",
   "execution_count": null,
   "id": "17d01215-b062-481a-9bee-09cda186e604",
   "metadata": {},
   "outputs": [],
   "source": [
    "df.info()"
   ]
  },
  {
   "cell_type": "code",
   "execution_count": null,
   "id": "5e869a36-8ed0-49b6-889c-aa0d6fd36d47",
   "metadata": {},
   "outputs": [],
   "source": [
    "# Missing Values\n",
    "\n",
    "df.isnull().sum()"
   ]
  },
  {
   "cell_type": "code",
   "execution_count": null,
   "id": "185ffb70-5552-4ecd-bf02-389c8743512c",
   "metadata": {},
   "outputs": [],
   "source": [
    "print(df['Processor'][0])\n",
    "\n",
    "print(type(df['Processor'][0]))"
   ]
  },
  {
   "cell_type": "code",
   "execution_count": null,
   "id": "8d09bd1b-b141-4527-92b2-57d9d5a3a50d",
   "metadata": {},
   "outputs": [],
   "source": [
    "print(''.join(df['Processor'][0]))\n",
    "print(type(''.join(df['Processor'][0])))"
   ]
  },
  {
   "cell_type": "code",
   "execution_count": null,
   "id": "e63fae5e-5f74-4a47-b213-c0e5b3f76949",
   "metadata": {},
   "outputs": [],
   "source": [
    "df.head()"
   ]
  },
  {
   "cell_type": "code",
   "execution_count": null,
   "id": "2258dde4-39f2-492a-aa70-eb2c1e0d9e29",
   "metadata": {},
   "outputs": [],
   "source": [
    "df.Processor = df.Processor.apply(lambda x : ''.join(x))\n",
    "df.RAM = df.RAM.apply(lambda x : ''.join(x))\n",
    "df.OS = df.OS.apply(lambda x : ''.join(x))\n",
    "df.Storage = df.Storage.apply(lambda x : ''.join(x))\n",
    "df.Brand = df.Brand.apply(lambda x : ''.join(x))"
   ]
  },
  {
   "cell_type": "code",
   "execution_count": null,
   "id": "058f822c-ff2e-4662-bf7f-43794a058c2e",
   "metadata": {},
   "outputs": [],
   "source": [
    "df.head()"
   ]
  },
  {
   "cell_type": "code",
   "execution_count": null,
   "id": "80f1af30-c06c-4572-af4a-e12a0f1505e6",
   "metadata": {},
   "outputs": [],
   "source": [
    "df.info()"
   ]
  },
  {
   "cell_type": "code",
   "execution_count": null,
   "id": "21745150-e520-41e4-bee0-9bfebc4dc4ac",
   "metadata": {},
   "outputs": [],
   "source": [
    "df.MRP = df.MRP.apply(lambda x : x.replace('₹', '').replace(',', '')).astype(float)"
   ]
  },
  {
   "cell_type": "code",
   "execution_count": null,
   "id": "5d0f2943-15ae-460c-8864-f256a6a0845d",
   "metadata": {},
   "outputs": [],
   "source": [
    "df.head()"
   ]
  },
  {
   "cell_type": "code",
   "execution_count": null,
   "id": "175fa90b-b137-4b03-aaa4-1e747995b712",
   "metadata": {},
   "outputs": [],
   "source": [
    "df.info()"
   ]
  },
  {
   "cell_type": "markdown",
   "id": "500e76ef-7a5e-44e5-924a-dd05e3bb557f",
   "metadata": {},
   "source": [
    "# Data Viz"
   ]
  },
  {
   "cell_type": "code",
   "execution_count": 1,
   "id": "99bd8f10-c648-42cb-80ca-52fcfabe048e",
   "metadata": {},
   "outputs": [],
   "source": [
    "import matplotlib.pyplot as plt\n",
    "import seaborn as sns"
   ]
  },
  {
   "cell_type": "code",
   "execution_count": null,
   "id": "1018dc20-1031-4783-8c71-94c4190cb6a2",
   "metadata": {},
   "outputs": [],
   "source": [
    "df.head()"
   ]
  },
  {
   "cell_type": "code",
   "execution_count": null,
   "id": "474c0220-5ce3-4e48-ba0c-8844f8b8cb14",
   "metadata": {},
   "outputs": [],
   "source": [
    "plt.figure(figsize=(15, 7))\n",
    "sns.boxplot(x = df.Brand, y = df.MRP)"
   ]
  },
  {
   "cell_type": "code",
   "execution_count": null,
   "id": "ed7130f5-5727-4a75-90f0-7d78f72c0234",
   "metadata": {},
   "outputs": [],
   "source": [
    "g = sns.displot(df.MRP, kind='kde')\n",
    "g.set_xticklabels(rotation=45)"
   ]
  },
  {
   "cell_type": "code",
   "execution_count": null,
   "id": "f281edaa-e851-44fe-897f-0a94f43cdeef",
   "metadata": {},
   "outputs": [],
   "source": [
    "plt.figure(figsize=(15, 7))\n",
    "sns.countplot(x=df.Brand)"
   ]
  },
  {
   "cell_type": "code",
   "execution_count": null,
   "id": "ea4c467d-b6a3-445d-a6bd-d20382a07157",
   "metadata": {},
   "outputs": [],
   "source": [
    "df.groupby(['Brand']).agg({'MRP' : ['min', 'max', 'mean']})"
   ]
  },
  {
   "cell_type": "code",
   "execution_count": null,
   "id": "fc741b03-fc80-4eea-be03-baf6c32540d8",
   "metadata": {},
   "outputs": [],
   "source": [
    "plt.figure(figsize=(15, 7))\n",
    "df.groupby(['Brand'])['MRP'].max().plot(kind = 'bar')"
   ]
  },
  {
   "cell_type": "code",
   "execution_count": null,
   "id": "aff4ecb8-ba20-4759-a18c-bb45d4316858",
   "metadata": {},
   "outputs": [],
   "source": [
    "plt.figure(figsize=(15, 7))\n",
    "df.groupby(['Brand'])['MRP'].min().plot(kind = 'bar')"
   ]
  },
  {
   "cell_type": "code",
   "execution_count": null,
   "id": "6a25b29c-ac4d-459a-b077-121a2940a5ee",
   "metadata": {},
   "outputs": [],
   "source": []
  }
 ],
 "metadata": {
  "kernelspec": {
   "display_name": "Python 3 (ipykernel)",
   "language": "python",
   "name": "python3"
  },
  "language_info": {
   "codemirror_mode": {
    "name": "ipython",
    "version": 3
   },
   "file_extension": ".py",
   "mimetype": "text/x-python",
   "name": "python",
   "nbconvert_exporter": "python",
   "pygments_lexer": "ipython3",
   "version": "3.9.13"
  }
 },
 "nbformat": 4,
 "nbformat_minor": 5
}
