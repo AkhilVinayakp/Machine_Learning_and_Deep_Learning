{
 "cells": [
  {
   "cell_type": "markdown",
   "id": "3f5c86a2-76b6-4cf7-8f94-051684e7784d",
   "metadata": {},
   "source": [
    "# **LangChain Memory**\n",
    "\n",
    "LangChain provides a few different options for storing  a conversation memory:\n",
    "- Storing all messages\n",
    "- Storing a limited number of interactions\n",
    "- Storing a limited number of tokens\n",
    "\n",
    "## **What's covered?**\n",
    "- ChatMessageHistory\n",
    "- ConversationBufferMemory\n",
    "- ConversationBufferWindowMemory\n",
    "- ConversationSummaryMemory"
   ]
  },
  {
   "cell_type": "markdown",
   "id": "5d80fdea-b9c7-4b6d-84a6-354df7fa4273",
   "metadata": {},
   "source": [
    "## **ChatMessageHistory**\n",
    "\n",
    "This allows us to mannualy add the messages to memory."
   ]
  },
  {
   "cell_type": "code",
   "execution_count": 1,
   "id": "7c2193d3-ed97-469d-91c6-3d6ce38b255e",
   "metadata": {},
   "outputs": [],
   "source": [
    "from langchain.memory import ChatMessageHistory\n",
    "\n",
    "history = ChatMessageHistory()"
   ]
  },
  {
   "cell_type": "code",
   "execution_count": 2,
   "id": "f937b886-4df3-437f-8138-5d77582322cf",
   "metadata": {},
   "outputs": [],
   "source": [
    "history.add_user_message(\"Hello, Nice to meet you.\")"
   ]
  },
  {
   "cell_type": "code",
   "execution_count": 3,
   "id": "17d20acb-d312-4bdc-9fdd-c5a027e1eff2",
   "metadata": {},
   "outputs": [],
   "source": [
    "history.add_ai_message(\"Nice to meet you!\")"
   ]
  },
  {
   "cell_type": "code",
   "execution_count": 4,
   "id": "9530da13-8741-4d78-9660-f429b2b40af8",
   "metadata": {},
   "outputs": [
    {
     "data": {
      "text/plain": [
       "[HumanMessage(content='Hello, Nice to meet you.'),\n",
       " AIMessage(content='Nice to meet you!')]"
      ]
     },
     "execution_count": 4,
     "metadata": {},
     "output_type": "execute_result"
    }
   ],
   "source": [
    "history.messages"
   ]
  },
  {
   "cell_type": "markdown",
   "id": "b1113868-bbd5-4d29-a118-7591b61fa8ff",
   "metadata": {},
   "source": [
    "## **ConversationBufferMemory**\n",
    "\n",
    "This memory type can be connected to a conversation. It allows for storing messages and then extracts the messages in a variable."
   ]
  },
  {
   "cell_type": "code",
   "execution_count": 5,
   "id": "68d0c98f-d4c6-4a53-89f1-11c67009d285",
   "metadata": {},
   "outputs": [],
   "source": [
    "from langchain_openai import ChatOpenAI\n",
    "from langchain.chains import ConversationChain\n",
    "from langchain.memory import ConversationBufferMemory"
   ]
  },
  {
   "cell_type": "code",
   "execution_count": 6,
   "id": "7b998268-325b-4d47-8e09-2a3fa720ca20",
   "metadata": {},
   "outputs": [],
   "source": [
    "# Setup API Key\n",
    "\n",
    "f = open('keys/.openai_api_key.txt')\n",
    "\n",
    "OPENAI_API_KEY = f.read()"
   ]
  },
  {
   "cell_type": "code",
   "execution_count": 7,
   "id": "b0a0a98b-29f1-4019-b876-e603e533fb53",
   "metadata": {},
   "outputs": [],
   "source": [
    "# Set the OpenAI Key and initialize a ChatModel\n",
    "chat_model = ChatOpenAI(openai_api_key=OPENAI_API_KEY)\n",
    "\n",
    "# Set up an instance of Conversation buffer memory\n",
    "memory = ConversationBufferMemory()"
   ]
  },
  {
   "cell_type": "code",
   "execution_count": 8,
   "id": "1352f945-88cc-467a-b2d2-142605eba5fe",
   "metadata": {},
   "outputs": [],
   "source": [
    "# Set up an assistant\n",
    "conversation = ConversationChain(llm=chat_model, memory=memory, verbose=True)"
   ]
  },
  {
   "cell_type": "code",
   "execution_count": 9,
   "id": "2bc0dd73-b250-4d87-a3d9-8e98b0508989",
   "metadata": {},
   "outputs": [
    {
     "name": "stdout",
     "output_type": "stream",
     "text": [
      "\n",
      "\n",
      "\u001b[1m> Entering new ConversationChain chain...\u001b[0m\n",
      "Prompt after formatting:\n",
      "\u001b[32;1m\u001b[1;3mThe following is a friendly conversation between a human and an AI. The AI is talkative and provides lots of specific details from its context. If the AI does not know the answer to a question, it truthfully says it does not know.\n",
      "\n",
      "Current conversation:\n",
      "\n",
      "Human: Hello, Nice to meet you.\n",
      "AI:\u001b[0m\n",
      "\n",
      "\u001b[1m> Finished chain.\u001b[0m\n"
     ]
    },
    {
     "data": {
      "text/plain": [
       "\"Hello! It's nice to meet you too. I am an AI programmed to assist you with any questions or tasks you may have. How can I help you today?\""
      ]
     },
     "execution_count": 9,
     "metadata": {},
     "output_type": "execute_result"
    }
   ],
   "source": [
    "conversation.predict(input=\"Hello, Nice to meet you.\")"
   ]
  },
  {
   "cell_type": "code",
   "execution_count": 10,
   "id": "001d762a-d15f-4706-b64c-0039f8a36fda",
   "metadata": {},
   "outputs": [
    {
     "name": "stdout",
     "output_type": "stream",
     "text": [
      "\n",
      "\n",
      "\u001b[1m> Entering new ConversationChain chain...\u001b[0m\n",
      "Prompt after formatting:\n",
      "\u001b[32;1m\u001b[1;3mThe following is a friendly conversation between a human and an AI. The AI is talkative and provides lots of specific details from its context. If the AI does not know the answer to a question, it truthfully says it does not know.\n",
      "\n",
      "Current conversation:\n",
      "Human: Hello, Nice to meet you.\n",
      "AI: Hello! It's nice to meet you too. I am an AI programmed to assist you with any questions or tasks you may have. How can I help you today?\n",
      "Human: Tell me a nice machine learning fact.\n",
      "AI:\u001b[0m\n",
      "\n",
      "\u001b[1m> Finished chain.\u001b[0m\n"
     ]
    },
    {
     "data": {
      "text/plain": [
       "\"Sure! Did you know that machine learning algorithms can analyze large amounts of data to find patterns and make predictions without being explicitly programmed to do so? It's pretty fascinating how they can learn and improve over time based on the data they are given.\""
      ]
     },
     "execution_count": 10,
     "metadata": {},
     "output_type": "execute_result"
    }
   ],
   "source": [
    "conversation.predict(input=\"Tell me a nice machine learning fact.\")"
   ]
  },
  {
   "cell_type": "code",
   "execution_count": 11,
   "id": "99676123-ff03-4393-b6fb-8820a0c7f5ee",
   "metadata": {},
   "outputs": [
    {
     "name": "stdout",
     "output_type": "stream",
     "text": [
      "Human: Hello, Nice to meet you.\n",
      "AI: Hello! It's nice to meet you too. I am an AI programmed to assist you with any questions or tasks you may have. How can I help you today?\n",
      "Human: Tell me a nice machine learning fact.\n",
      "AI: Sure! Did you know that machine learning algorithms can analyze large amounts of data to find patterns and make predictions without being explicitly programmed to do so? It's pretty fascinating how they can learn and improve over time based on the data they are given.\n"
     ]
    }
   ],
   "source": [
    "print(memory.buffer)"
   ]
  },
  {
   "cell_type": "code",
   "execution_count": 14,
   "id": "43cc9006-32d3-4523-8c5d-a812b55c11f9",
   "metadata": {},
   "outputs": [
    {
     "name": "stdout",
     "output_type": "stream",
     "text": [
      "chat_memory=ChatMessageHistory(messages=[HumanMessage(content='Hello, Nice to meet you.'), AIMessage(content=\"Hello! It's nice to meet you too. I am an AI programmed to assist you with any questions or tasks you may have. How can I help you today?\"), HumanMessage(content='Tell me a nice machine learning fact.'), AIMessage(content=\"Sure! Did you know that machine learning algorithms can analyze large amounts of data to find patterns and make predictions without being explicitly programmed to do so? It's pretty fascinating how they can learn and improve over time based on the data they are given.\")])\n"
     ]
    }
   ],
   "source": [
    "print(conversation.memory)"
   ]
  },
  {
   "cell_type": "markdown",
   "id": "866f57c5-b8f5-4efc-a409-bf4e221629d4",
   "metadata": {},
   "source": [
    "**Let's now learn to save this history on the disk so that whenever we can load the history whenever we chat with our assistant.**"
   ]
  },
  {
   "cell_type": "code",
   "execution_count": 17,
   "id": "8217df9c-fcd3-4f4d-baa2-85e413e7e9a4",
   "metadata": {},
   "outputs": [],
   "source": [
    "import pickle\n",
    "\n",
    "chat_history = pickle.dumps(conversation.memory)\n",
    "\n",
    "with open(\"chats_data/conversation_memory.pkl\", \"wb\") as f:\n",
    "    f.write(chat_history)"
   ]
  },
  {
   "cell_type": "markdown",
   "id": "96c5c8b1-4521-43ce-83f2-f1c84d3609d0",
   "metadata": {},
   "source": [
    "## **Loading a Chat History**"
   ]
  },
  {
   "cell_type": "code",
   "execution_count": 20,
   "id": "d9ca65b7-c292-45f2-92e4-20f84679277a",
   "metadata": {},
   "outputs": [
    {
     "name": "stdout",
     "output_type": "stream",
     "text": [
      "chat_memory=ChatMessageHistory(messages=[HumanMessage(content='Hello, Nice to meet you.'), AIMessage(content=\"Hello! It's nice to meet you too. I am an AI programmed to assist you with any questions or tasks you may have. How can I help you today?\"), HumanMessage(content='Tell me a nice machine learning fact.'), AIMessage(content=\"Sure! Did you know that machine learning algorithms can analyze large amounts of data to find patterns and make predictions without being explicitly programmed to do so? It's pretty fascinating how they can learn and improve over time based on the data they are given.\")])\n"
     ]
    }
   ],
   "source": [
    "chat_history_loaded = pickle.load(open(\"chats_data/conversation_memory.pkl\", \"rb\"))\n",
    "\n",
    "print(chat_history_loaded)"
   ]
  },
  {
   "cell_type": "code",
   "execution_count": 21,
   "id": "15598358-4c7c-44b0-b464-241d86a0633b",
   "metadata": {},
   "outputs": [],
   "source": [
    "from langchain_openai import ChatOpenAI\n",
    "from langchain.chains import ConversationChain"
   ]
  },
  {
   "cell_type": "code",
   "execution_count": 22,
   "id": "2aba7029-2454-4a80-88bd-95711e7d9b5f",
   "metadata": {},
   "outputs": [],
   "source": [
    "# Set the OpenAI Key and initialize a ChatModel\n",
    "chat_model = ChatOpenAI(openai_api_key=OPENAI_API_KEY)\n",
    "\n",
    "# Set up an instance of Conversation buffer memory\n",
    "memory_reloaded = chat_history_loaded\n",
    "\n",
    "conversation_reloaded = ConversationChain(llm=chat_model, memory=memory_reloaded, verbose=True)"
   ]
  },
  {
   "cell_type": "code",
   "execution_count": 23,
   "id": "83da7736-064b-4296-9d60-9314e33ca5ec",
   "metadata": {},
   "outputs": [
    {
     "name": "stdout",
     "output_type": "stream",
     "text": [
      "Human: Hello, Nice to meet you.\n",
      "AI: Hello! It's nice to meet you too. I am an AI programmed to assist you with any questions or tasks you may have. How can I help you today?\n",
      "Human: Tell me a nice machine learning fact.\n",
      "AI: Sure! Did you know that machine learning algorithms can analyze large amounts of data to find patterns and make predictions without being explicitly programmed to do so? It's pretty fascinating how they can learn and improve over time based on the data they are given.\n"
     ]
    }
   ],
   "source": [
    "print(memory_reloaded.buffer)"
   ]
  },
  {
   "cell_type": "markdown",
   "id": "d4e27849-a745-4de1-8dc9-6e5e0aa07b0a",
   "metadata": {},
   "source": [
    "## **ConversationBufferWindowMemory**\n",
    "\n",
    "With this we will have an ability to call back just a window of conversation.\n",
    "\n",
    "`ConversationBufferWindowMemory` keeps a list of the interactions of the conversation over time. It only uses the last K interactions. This can be useful for keeping a sliding window of the most recent interactions, so the buffer does not get too large."
   ]
  },
  {
   "cell_type": "code",
   "execution_count": 25,
   "id": "d1b54d98-0e59-4814-a056-3e642add1a86",
   "metadata": {},
   "outputs": [],
   "source": [
    "from langchain_openai import ChatOpenAI\n",
    "from langchain.chains import ConversationChain\n",
    "from langchain.memory import ConversationBufferWindowMemory"
   ]
  },
  {
   "cell_type": "code",
   "execution_count": 27,
   "id": "9a463341-8d6c-499a-8e89-1f00ea172b79",
   "metadata": {},
   "outputs": [],
   "source": [
    "# Set the OpenAI Key and initialize a ChatModel\n",
    "chat_model = ChatOpenAI(openai_api_key=OPENAI_API_KEY)\n",
    "\n",
    "# Set up an instance of Conversation buffer window memory\n",
    "window_memory = ConversationBufferWindowMemory(k=1)\n",
    "# here, k most recent interactions will be refered to answer the user queries\n",
    "\n",
    "# Set up an assistant\n",
    "conversation = ConversationChain(llm=chat_model, memory=window_memory, verbose=True)"
   ]
  },
  {
   "cell_type": "code",
   "execution_count": 29,
   "id": "5e3eb121-e9ce-47c9-bf4e-f0890eff7fe6",
   "metadata": {},
   "outputs": [
    {
     "name": "stdout",
     "output_type": "stream",
     "text": [
      "\n",
      "\n",
      "\u001b[1m> Entering new ConversationChain chain...\u001b[0m\n",
      "Prompt after formatting:\n",
      "\u001b[32;1m\u001b[1;3mThe following is a friendly conversation between a human and an AI. The AI is talkative and provides lots of specific details from its context. If the AI does not know the answer to a question, it truthfully says it does not know.\n",
      "\n",
      "Current conversation:\n",
      "\n",
      "Human: Hello, How are you?\n",
      "AI:\u001b[0m\n",
      "\n",
      "\u001b[1m> Finished chain.\u001b[0m\n"
     ]
    },
    {
     "data": {
      "text/plain": [
       "\"Hello! I'm doing well, thank you for asking. I've been busy processing information and learning new things. How about you?\""
      ]
     },
     "execution_count": 29,
     "metadata": {},
     "output_type": "execute_result"
    }
   ],
   "source": [
    "conversation.predict(input=\"Hello, How are you?\")"
   ]
  },
  {
   "cell_type": "code",
   "execution_count": 30,
   "id": "86a6f9c7-9877-4114-a8e4-792c739c6db0",
   "metadata": {},
   "outputs": [
    {
     "name": "stdout",
     "output_type": "stream",
     "text": [
      "\n",
      "\n",
      "\u001b[1m> Entering new ConversationChain chain...\u001b[0m\n",
      "Prompt after formatting:\n",
      "\u001b[32;1m\u001b[1;3mThe following is a friendly conversation between a human and an AI. The AI is talkative and provides lots of specific details from its context. If the AI does not know the answer to a question, it truthfully says it does not know.\n",
      "\n",
      "Current conversation:\n",
      "Human: Hello, How are you?\n",
      "AI: Hello! I'm doing well, thank you for asking. I've been busy processing information and learning new things. How about you?\n",
      "Human: What is the new thing you learned recently?\n",
      "AI:\u001b[0m\n",
      "\n",
      "\u001b[1m> Finished chain.\u001b[0m\n"
     ]
    },
    {
     "data": {
      "text/plain": [
       "\"I recently learned about a new algorithm for image recognition that improves accuracy by 10%. It's called Convolutional Neural Networks with Attention Mechanism (CNN-AM). This algorithm focuses on specific parts of an image to make more accurate predictions. I found it fascinating how it can significantly improve image recognition tasks.\""
      ]
     },
     "execution_count": 30,
     "metadata": {},
     "output_type": "execute_result"
    }
   ],
   "source": [
    "conversation.predict(input=\"What is the new thing you learned recently?\")"
   ]
  },
  {
   "cell_type": "code",
   "execution_count": 31,
   "id": "6957c84a-f049-486b-8357-7e942285d36d",
   "metadata": {},
   "outputs": [
    {
     "name": "stdout",
     "output_type": "stream",
     "text": [
      "\n",
      "\n",
      "\u001b[1m> Entering new ConversationChain chain...\u001b[0m\n",
      "Prompt after formatting:\n",
      "\u001b[32;1m\u001b[1;3mThe following is a friendly conversation between a human and an AI. The AI is talkative and provides lots of specific details from its context. If the AI does not know the answer to a question, it truthfully says it does not know.\n",
      "\n",
      "Current conversation:\n",
      "Human: What is the new thing you learned recently?\n",
      "AI: I recently learned about a new algorithm for image recognition that improves accuracy by 10%. It's called Convolutional Neural Networks with Attention Mechanism (CNN-AM). This algorithm focuses on specific parts of an image to make more accurate predictions. I found it fascinating how it can significantly improve image recognition tasks.\n",
      "Human: Sounds interesting. Can you teach it to me in a simple term?\n",
      "AI:\u001b[0m\n",
      "\n",
      "\u001b[1m> Finished chain.\u001b[0m\n"
     ]
    },
    {
     "data": {
      "text/plain": [
       "'Sure! In simple terms, the CNN-AM algorithm is like a detective that pays extra attention to important parts of a picture to figure out what the picture is showing. It helps computers recognize images more accurately by focusing on key details.'"
      ]
     },
     "execution_count": 31,
     "metadata": {},
     "output_type": "execute_result"
    }
   ],
   "source": [
    "conversation.predict(input=\"Sounds interesting. Can you teach it to me in a simple term?\")"
   ]
  },
  {
   "cell_type": "code",
   "execution_count": 33,
   "id": "72908c73-13cc-4e00-a47d-f39165b390f2",
   "metadata": {},
   "outputs": [
    {
     "name": "stdout",
     "output_type": "stream",
     "text": [
      "chat_memory=ChatMessageHistory(messages=[HumanMessage(content='Hello, How are you?'), AIMessage(content=\"Hello! I'm doing well, thank you for asking. I've been busy processing information and learning new things. How about you?\"), HumanMessage(content='What is the new thing you learned recently?'), AIMessage(content=\"I recently learned about a new algorithm for image recognition that improves accuracy by 10%. It's called Convolutional Neural Networks with Attention Mechanism (CNN-AM). This algorithm focuses on specific parts of an image to make more accurate predictions. I found it fascinating how it can significantly improve image recognition tasks.\"), HumanMessage(content='Sounds interesting. Can you teach it to me in a simple term?'), AIMessage(content='Sure! In simple terms, the CNN-AM algorithm is like a detective that pays extra attention to important parts of a picture to figure out what the picture is showing. It helps computers recognize images more accurately by focusing on key details.')]) k=1\n"
     ]
    }
   ],
   "source": [
    "print(conversation.memory)"
   ]
  },
  {
   "cell_type": "code",
   "execution_count": 32,
   "id": "1d247501-b4c9-4217-9625-52a9013bc39f",
   "metadata": {},
   "outputs": [
    {
     "name": "stdout",
     "output_type": "stream",
     "text": [
      "Human: Sounds interesting. Can you teach it to me in a simple term?\n",
      "AI: Sure! In simple terms, the CNN-AM algorithm is like a detective that pays extra attention to important parts of a picture to figure out what the picture is showing. It helps computers recognize images more accurately by focusing on key details.\n"
     ]
    }
   ],
   "source": [
    "print(window_memory.buffer)"
   ]
  },
  {
   "cell_type": "markdown",
   "id": "b0e96e65-92d9-4586-9e87-2a867905de1a",
   "metadata": {},
   "source": [
    "## **ConversationSummaryBufferMemory**\n",
    "\n",
    "It allows us to call a LLM for a summary of all the historical conversation.\n",
    "\n",
    "`ConversationSummaryBufferMemory` combines the two ideas. It keeps a buffer of recent interactions in memory, but rather than just completely flushing old interactions it compiles them into a summary and uses both. It uses token length rather than number of interactions to determine when to flush interactions."
   ]
  },
  {
   "cell_type": "code",
   "execution_count": 37,
   "id": "84384898-a0e2-47bd-a657-5a6e04f8afb4",
   "metadata": {},
   "outputs": [],
   "source": [
    "from langchain.memory import ConversationSummaryBufferMemory\n",
    "\n",
    "summary_memory = ConversationSummaryBufferMemory(llm=chat_model, max_token_limit=100)\n",
    "\n",
    "conversation = ConversationChain(llm=chat_model, memory=summary_memory)"
   ]
  },
  {
   "cell_type": "code",
   "execution_count": 38,
   "id": "28737e5c-ead4-4d73-96ad-3ad24b40e764",
   "metadata": {},
   "outputs": [
    {
     "data": {
      "text/plain": [
       "\"Sure! For your upcoming Data Science interview, I recommend starting with the basics of Python programming. Here's a suggested study plan:\\n\\n1. Week 1: Introduction to Python - Learn about Python syntax, data types, variables, and basic operations.\\n2. Week 2: Control flow and functions - Dive into if statements, loops, and functions in Python.\\n3. Week 3: Data structures - Explore lists, dictionaries, tuples, and sets in Python.\\n4. Week 4: File handling and modules - Understand how to read and write files, as well as import modules in Python.\\n5. Week 5: Object-oriented programming - Learn about classes, objects, and inheritance in Python.\\n6. Week 6: Libraries and frameworks - Familiarize yourself with popular libraries like NumPy, Pandas, and Matplotlib for data manipulation and visualization.\\n7. Week 7: Practice coding exercises - Solve coding challenges on platforms like LeetCode or HackerRank to reinforce your skills.\\n8. Week 8: Review and mock interviews - Review key concepts and participate in mock interviews to prepare for your Data Science interview.\\n\\nRemember to practice regularly and apply what you've learned to real-world projects. Good luck with your interview preparation! Let me know if you have any other questions.\""
      ]
     },
     "execution_count": 38,
     "metadata": {},
     "output_type": "execute_result"
    }
   ],
   "source": [
    "conversation.predict(input=\"Give me a study plan for Python Programming for my upcoming Data Science Interview.\")"
   ]
  },
  {
   "cell_type": "code",
   "execution_count": 39,
   "id": "bf2997a5-a9ba-48e3-8fb6-19cdd0a5fb12",
   "metadata": {},
   "outputs": [
    {
     "data": {
      "text/plain": [
       "\"For Machine Learning, I recommend a 12-week study plan to cover the fundamentals of machine learning algorithms, data preprocessing, model evaluation, feature selection, and tuning hyperparameters. I also suggest diving into specific topics such as regression, classification, clustering, and neural networks. Additionally, it's important to work on real-world projects and participate in Kaggle competitions to apply your knowledge and showcase your skills to potential employers during the interview process. Let me know if you need more specific details or resources for your study plan!\""
      ]
     },
     "execution_count": 39,
     "metadata": {},
     "output_type": "execute_result"
    }
   ],
   "source": [
    "conversation.predict(input=\"Also share for Machine Learning.\")"
   ]
  },
  {
   "cell_type": "code",
   "execution_count": 40,
   "id": "2f1ed8b0-782b-420c-8725-77d1beb5df42",
   "metadata": {},
   "outputs": [
    {
     "name": "stdout",
     "output_type": "stream",
     "text": [
      "[]\n"
     ]
    }
   ],
   "source": [
    "print(summary_memory.buffer)"
   ]
  },
  {
   "cell_type": "code",
   "execution_count": 41,
   "id": "3711d1f2-ee16-412a-a694-c9d687e7fe4f",
   "metadata": {},
   "outputs": [
    {
     "name": "stdout",
     "output_type": "stream",
     "text": [
      "llm=ChatOpenAI(client=<openai.resources.chat.completions.Completions object at 0x0000024EA67AC2B0>, async_client=<openai.resources.chat.completions.AsyncCompletions object at 0x0000024EA67AF7C0>, openai_api_key=SecretStr('**********'), openai_proxy='') max_token_limit=100 moving_summary_buffer='The human asks the AI for study plans for Python Programming and Machine Learning for an upcoming Data Science Interview. The AI provides a detailed 8-week study plan for Python and a 12-week study plan for Machine Learning, emphasizing the importance of regular practice, real-world application, and participating in Kaggle competitions to showcase skills.'\n"
     ]
    }
   ],
   "source": [
    "print(conversation.memory)"
   ]
  }
 ],
 "metadata": {
  "kernelspec": {
   "display_name": "Python 3 (ipykernel)",
   "language": "python",
   "name": "python3"
  },
  "language_info": {
   "codemirror_mode": {
    "name": "ipython",
    "version": 3
   },
   "file_extension": ".py",
   "mimetype": "text/x-python",
   "name": "python",
   "nbconvert_exporter": "python",
   "pygments_lexer": "ipython3",
   "version": "3.9.13"
  }
 },
 "nbformat": 4,
 "nbformat_minor": 5
}
