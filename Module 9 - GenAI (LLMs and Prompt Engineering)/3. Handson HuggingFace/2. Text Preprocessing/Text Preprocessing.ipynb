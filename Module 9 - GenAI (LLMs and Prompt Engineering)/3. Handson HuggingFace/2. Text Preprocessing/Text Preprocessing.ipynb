{
 "cells": [
  {
   "cell_type": "markdown",
   "id": "c823e87c-bec7-41b8-bd7e-f25bec05b162",
   "metadata": {},
   "source": [
    "# **Text Preprocessing**\n",
    "\n",
    "Tokenization\n",
    "\n",
    "Padding \n",
    "\n",
    "Truncating"
   ]
  },
  {
   "cell_type": "code",
   "execution_count": null,
   "id": "fd2dc3fc-fd30-44ea-b8f0-7ad40d4439bc",
   "metadata": {},
   "outputs": [],
   "source": []
  }
 ],
 "metadata": {
  "kernelspec": {
   "display_name": "Python 3 (ipykernel)",
   "language": "python",
   "name": "python3"
  },
  "language_info": {
   "codemirror_mode": {
    "name": "ipython",
    "version": 3
   },
   "file_extension": ".py",
   "mimetype": "text/x-python",
   "name": "python",
   "nbconvert_exporter": "python",
   "pygments_lexer": "ipython3",
   "version": "3.9.13"
  }
 },
 "nbformat": 4,
 "nbformat_minor": 5
}
