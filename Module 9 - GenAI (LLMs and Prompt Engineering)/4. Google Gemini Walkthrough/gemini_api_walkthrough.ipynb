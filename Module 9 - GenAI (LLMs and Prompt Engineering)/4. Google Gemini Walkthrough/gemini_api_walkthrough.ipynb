{
 "cells": [
  {
   "cell_type": "code",
   "execution_count": 2,
   "id": "d51ed763-72b9-4f29-b10e-b75c537597c9",
   "metadata": {},
   "outputs": [],
   "source": [
    "# ! pip install google-generativeai"
   ]
  },
  {
   "cell_type": "markdown",
   "id": "9d1d7b5d-b943-4bab-bbbe-8a176fd5130e",
   "metadata": {},
   "source": [
    "## **Importing Google Gemini AI**"
   ]
  },
  {
   "cell_type": "code",
   "execution_count": 3,
   "id": "dfb7d1b8-f430-4f9b-b2a4-417a8db6313c",
   "metadata": {},
   "outputs": [],
   "source": [
    "import google.generativeai as genai"
   ]
  },
  {
   "cell_type": "markdown",
   "id": "b3e0b31b-e2db-43e7-9999-347e3c441724",
   "metadata": {},
   "source": [
    "## **Setting the API Key**"
   ]
  },
  {
   "cell_type": "code",
   "execution_count": 4,
   "id": "0ad6eea9-585d-427f-aa76-da4d26111804",
   "metadata": {},
   "outputs": [],
   "source": [
    "f = open(\"keys/.gemini.txt\")\n",
    "key = f.read()\n",
    "\n",
    "genai.configure(api_key=key)"
   ]
  },
  {
   "cell_type": "markdown",
   "id": "991360dd-a618-479a-904d-5e07661e2697",
   "metadata": {},
   "source": [
    "## **Available Models**"
   ]
  },
  {
   "cell_type": "code",
   "execution_count": 6,
   "id": "672b0037-b730-4955-9402-bbecf0f27fe1",
   "metadata": {},
   "outputs": [
    {
     "name": "stdout",
     "output_type": "stream",
     "text": [
      "models/gemini-1.0-pro\n",
      "models/gemini-1.0-pro-001\n",
      "models/gemini-1.0-pro-latest\n",
      "models/gemini-1.0-pro-vision-latest\n",
      "models/gemini-1.5-pro-latest\n",
      "models/gemini-pro\n",
      "models/gemini-pro-vision\n"
     ]
    }
   ],
   "source": [
    "for m in genai.list_models():\n",
    "  if 'generateContent' in m.supported_generation_methods:\n",
    "    print(m.name)"
   ]
  },
  {
   "cell_type": "markdown",
   "id": "7ef743af-5075-469a-9126-200e13439f7c",
   "metadata": {},
   "source": [
    "## **Prompting the Gemini Model**"
   ]
  },
  {
   "cell_type": "code",
   "execution_count": 7,
   "id": "74ced0d0-98ef-48a5-bb03-8372a4576604",
   "metadata": {},
   "outputs": [
    {
     "name": "stdout",
     "output_type": "stream",
     "text": [
      "planet.\n"
     ]
    }
   ],
   "source": [
    "model = genai.GenerativeModel(model_name=\"gemini-pro\")\n",
    "\n",
    "user_prompt = \"\"\"Complete the following:\n",
    "                In our solar system, Earth is a \"\"\"\n",
    "\n",
    "response = model.generate_content(user_prompt)\n",
    "\n",
    "print(response.text)"
   ]
  },
  {
   "cell_type": "code",
   "execution_count": 8,
   "id": "ab0e6f5b-63c6-4d7d-a488-ed22c6344a77",
   "metadata": {},
   "outputs": [
    {
     "name": "stdout",
     "output_type": "stream",
     "text": [
      "In our solar system, Earth is a terrestrial or rocky planet, composed primarily of metals and minerals. It is the third planet from the Sun, residing in the inner solar system.\n"
     ]
    }
   ],
   "source": [
    "model = genai.GenerativeModel(model_name=\"gemini-pro\")\n",
    "\n",
    "user_prompt = \"\"\"Generate some factual information to complete the following in 2-3 lines:\n",
    "                In our solar system, Earth is a \"\"\"\n",
    "\n",
    "response = model.generate_content(user_prompt)\n",
    "\n",
    "print(response.text)"
   ]
  },
  {
   "cell_type": "markdown",
   "id": "27c53a90-0a98-4404-87b2-1d17e5bca01f",
   "metadata": {},
   "source": [
    "## **Converstation AI using Gemini AI**"
   ]
  },
  {
   "cell_type": "code",
   "execution_count": null,
   "id": "513a14c4-0211-473c-80d8-90a918376cac",
   "metadata": {},
   "outputs": [],
   "source": []
  }
 ],
 "metadata": {
  "kernelspec": {
   "display_name": "Python 3 (ipykernel)",
   "language": "python",
   "name": "python3"
  },
  "language_info": {
   "codemirror_mode": {
    "name": "ipython",
    "version": 3
   },
   "file_extension": ".py",
   "mimetype": "text/x-python",
   "name": "python",
   "nbconvert_exporter": "python",
   "pygments_lexer": "ipython3",
   "version": "3.9.13"
  }
 },
 "nbformat": 4,
 "nbformat_minor": 5
}
