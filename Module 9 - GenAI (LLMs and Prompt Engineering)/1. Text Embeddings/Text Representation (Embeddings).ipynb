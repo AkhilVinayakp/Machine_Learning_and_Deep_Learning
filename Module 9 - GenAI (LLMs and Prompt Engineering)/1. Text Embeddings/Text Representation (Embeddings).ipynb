{
 "cells": [
  {
   "cell_type": "markdown",
   "id": "38046ae8-7a2a-4c0f-8b2d-b3d1fc4a551f",
   "metadata": {},
   "source": [
    "# **Text Representation aka Text Embeddings**\n",
    "Text embeddings are a way to represent words or phrases as vectors in a high-dimensional space based on their contextual meaning within a corpus of text data. The idea is that if two phrases are similar then the vectors that represent those phrases should be close together and vice versa.\n",
    "\n",
    "### **What's Covered**\n",
    "1. Introduction to Feature Extraction\n",
    "2. Case Study - Identifying Relavant US Economy News Articles\n",
    "3. Various Feature Representation Techniques\n",
    "    - Basic Vectorization Approaches\n",
    "    - Distributed Representation\n",
    "    - Universal Language Representation\n",
    "    - Handcrafted Features\n",
    "4. What is Language Modeling?\n",
    "5. Use Cases\n",
    "6. Some Real Time Applications"
   ]
  },
  {
   "cell_type": "markdown",
   "id": "d53daf4c-3127-4380-a3af-3043ecead199",
   "metadata": {},
   "source": [
    "## **Introduction to Feature Extraction**\n",
    "1. Feature Extraction is an important step for any machine learning problem.\n",
    "2. No matter how good a modeling algorithm you use, if you feed in poor features, you will get poor results.\n",
    "3. **Remember:** \"Garbage in, garbage out.\"\n",
    "4. Data can be text, images, videos, or speech.\n",
    "5. Mathematically representing images, videos and speech is straightforward.\n",
    "6. However, feature representation for text is often much more involved as compared to other formats of data.\n",
    "\n",
    "**Let's learn the importance of text representation by solving an example.**"
   ]
  },
  {
   "cell_type": "markdown",
   "id": "c22cfeae-a7a6-4138-8f0a-093bdc4f88e0",
   "metadata": {},
   "source": [
    "## **Case Study - Identifying Relavant US Economy News Articles**\n",
    "\n",
    "The dataset below consists of 8000 news articles annotated with whether or not they're relavant to US economy (i.e., a yes/no binary classification). The dataset is known to be imbalanced."
   ]
  },
  {
   "cell_type": "code",
   "execution_count": 1,
   "id": "cdfa5490-b725-4e96-ada5-6d598a874c7f",
   "metadata": {},
   "outputs": [],
   "source": [
    "import pandas as pd"
   ]
  },
  {
   "cell_type": "code",
   "execution_count": 5,
   "id": "8e96f342-778e-4a97-9a39-d6cb4f78e4d1",
   "metadata": {},
   "outputs": [
    {
     "data": {
      "text/html": [
       "<div>\n",
       "<style scoped>\n",
       "    .dataframe tbody tr th:only-of-type {\n",
       "        vertical-align: middle;\n",
       "    }\n",
       "\n",
       "    .dataframe tbody tr th {\n",
       "        vertical-align: top;\n",
       "    }\n",
       "\n",
       "    .dataframe thead th {\n",
       "        text-align: right;\n",
       "    }\n",
       "</style>\n",
       "<table border=\"1\" class=\"dataframe\">\n",
       "  <thead>\n",
       "    <tr style=\"text-align: right;\">\n",
       "      <th></th>\n",
       "      <th>relevance</th>\n",
       "      <th>articleid</th>\n",
       "      <th>date</th>\n",
       "      <th>headline</th>\n",
       "      <th>text</th>\n",
       "    </tr>\n",
       "  </thead>\n",
       "  <tbody>\n",
       "    <tr>\n",
       "      <th>0</th>\n",
       "      <td>yes</td>\n",
       "      <td>wsj_398217788</td>\n",
       "      <td>8/14/91</td>\n",
       "      <td>Yields on CDs Fell in the Latest Week</td>\n",
       "      <td>NEW YORK -- Yields on most certificates of dep...</td>\n",
       "    </tr>\n",
       "    <tr>\n",
       "      <th>1</th>\n",
       "      <td>no</td>\n",
       "      <td>wsj_399019502</td>\n",
       "      <td>8/21/07</td>\n",
       "      <td>The Morning Brief: White House Seeks to Limit ...</td>\n",
       "      <td>The Wall Street Journal Online&lt;/br&gt;&lt;/br&gt;The Mo...</td>\n",
       "    </tr>\n",
       "    <tr>\n",
       "      <th>2</th>\n",
       "      <td>no</td>\n",
       "      <td>wsj_398284048</td>\n",
       "      <td>11/14/91</td>\n",
       "      <td>Banking Bill Negotiators Set Compromise --- Pl...</td>\n",
       "      <td>WASHINGTON -- In an effort to achieve banking ...</td>\n",
       "    </tr>\n",
       "    <tr>\n",
       "      <th>3</th>\n",
       "      <td>no</td>\n",
       "      <td>wsj_397959018</td>\n",
       "      <td>6/16/86</td>\n",
       "      <td>Manager's Journal: Sniffing Out Drug Abusers I...</td>\n",
       "      <td>The statistics on the enormous costs of employ...</td>\n",
       "    </tr>\n",
       "    <tr>\n",
       "      <th>4</th>\n",
       "      <td>yes</td>\n",
       "      <td>wsj_398838054</td>\n",
       "      <td>10-04-2002</td>\n",
       "      <td>Currency Trading: Dollar Remains in Tight Rang...</td>\n",
       "      <td>NEW YORK -- Indecision marked the dollar's ton...</td>\n",
       "    </tr>\n",
       "  </tbody>\n",
       "</table>\n",
       "</div>"
      ],
      "text/plain": [
       "  relevance      articleid        date  \\\n",
       "0       yes  wsj_398217788     8/14/91   \n",
       "1        no  wsj_399019502     8/21/07   \n",
       "2        no  wsj_398284048    11/14/91   \n",
       "3        no  wsj_397959018     6/16/86   \n",
       "4       yes  wsj_398838054  10-04-2002   \n",
       "\n",
       "                                            headline  \\\n",
       "0              Yields on CDs Fell in the Latest Week   \n",
       "1  The Morning Brief: White House Seeks to Limit ...   \n",
       "2  Banking Bill Negotiators Set Compromise --- Pl...   \n",
       "3  Manager's Journal: Sniffing Out Drug Abusers I...   \n",
       "4  Currency Trading: Dollar Remains in Tight Rang...   \n",
       "\n",
       "                                                text  \n",
       "0  NEW YORK -- Yields on most certificates of dep...  \n",
       "1  The Wall Street Journal Online</br></br>The Mo...  \n",
       "2  WASHINGTON -- In an effort to achieve banking ...  \n",
       "3  The statistics on the enormous costs of employ...  \n",
       "4  NEW YORK -- Indecision marked the dollar's ton...  "
      ]
     },
     "execution_count": 5,
     "metadata": {},
     "output_type": "execute_result"
    }
   ],
   "source": [
    "df = pd.read_csv(\"data/full_economic_news_articles.csv\", encoding=\"latin1\")\n",
    "\n",
    "df.head()"
   ]
  },
  {
   "cell_type": "code",
   "execution_count": 9,
   "id": "06f49a9d-ce95-472a-a380-8641b02a3fa5",
   "metadata": {},
   "outputs": [
    {
     "data": {
      "text/plain": [
       "(8000, 5)"
      ]
     },
     "execution_count": 9,
     "metadata": {},
     "output_type": "execute_result"
    }
   ],
   "source": [
    "df.shape"
   ]
  },
  {
   "cell_type": "code",
   "execution_count": 8,
   "id": "57d87bc0-7640-401b-9720-bda891a99bfa",
   "metadata": {},
   "outputs": [
    {
     "data": {
      "text/plain": [
       "relevance\n",
       "no          0.821375\n",
       "yes         0.177500\n",
       "not sure    0.001125\n",
       "Name: proportion, dtype: float64"
      ]
     },
     "execution_count": 8,
     "metadata": {},
     "output_type": "execute_result"
    }
   ],
   "source": [
    "df['relevance'].value_counts(normalize=True)"
   ]
  },
  {
   "cell_type": "markdown",
   "id": "3aca8843-996c-4bce-8cb6-ab1b806bb6f6",
   "metadata": {},
   "source": [
    "There is an imbalance in the data with **not relevant** being 82% in the dataset. That is, most of the articles are not relevant to US Economy, which makes sense in a real-world scenario, as news articles discuss various topics. We should keep this class imbalance mind when interpreting the classifier performance later. Let us first convert the class labels into binary outcome variables for convenience. 1 for Yes (relevant), and 0 for No (not relevant), and ignore \"Not sure\"."
   ]
  },
  {
   "cell_type": "code",
   "execution_count": 11,
   "id": "8514c3f7-4519-4bcb-b0f9-bc88bccc27d4",
   "metadata": {},
   "outputs": [
    {
     "data": {
      "text/plain": [
       "(7991, 5)"
      ]
     },
     "execution_count": 11,
     "metadata": {},
     "output_type": "execute_result"
    }
   ],
   "source": [
    "# removing the data where we don't want relevance=\"not sure\".\n",
    "df = df[df.relevance != \"not sure\"]\n",
    "\n",
    "df.shape"
   ]
  },
  {
   "cell_type": "code",
   "execution_count": 12,
   "id": "fbdea151-1b97-47b5-af3a-290f10505e5d",
   "metadata": {},
   "outputs": [
    {
     "data": {
      "text/plain": [
       "(7991, 2)"
      ]
     },
     "execution_count": 12,
     "metadata": {},
     "output_type": "execute_result"
    }
   ],
   "source": [
    "# convert label to a numerical variable\n",
    "df['relevance'] = df.relevance.map({'yes':1, 'no':0}) # relevant is 1, not-relevant is 0. \n",
    "\n",
    "# Let us take only the two columns we need\n",
    "df = df[[\"text\",\"relevance\"]] \n",
    "df.shape"
   ]
  },
  {
   "cell_type": "code",
   "execution_count": 20,
   "id": "8dddf0bc-5f23-4bcb-a623-1448e9eddb94",
   "metadata": {},
   "outputs": [],
   "source": [
    "import string\n",
    "\n",
    "def clean(doc): # doc is a string of text\n",
    "    doc = doc.replace(\"</br>\", \" \") # This text contains a lot of <br/> tags.\n",
    "    doc = \"\".join([char for char in doc if char not in string.punctuation and not char.isdigit()])\n",
    "    # remove punctuation and numbers\n",
    "    return doc"
   ]
  },
  {
   "cell_type": "code",
   "execution_count": 21,
   "id": "fac54ba9-f47c-4dff-8b58-9553d1eaf7bd",
   "metadata": {},
   "outputs": [
    {
     "name": "stdout",
     "output_type": "stream",
     "text": [
      "(7991,) (7991,)\n"
     ]
    }
   ],
   "source": [
    "from sklearn.model_selection import train_test_split\n",
    "\n",
    "# Step 1: train-test split\n",
    "X = df.text # the column text contains textual data to extract features from\n",
    "y = df.relevance # this is the column we are learning to predict. \n",
    "print(X.shape, y.shape)"
   ]
  },
  {
   "cell_type": "code",
   "execution_count": 22,
   "id": "bd3019e0-e255-4238-9ac5-eed4d6e34198",
   "metadata": {},
   "outputs": [
    {
     "name": "stdout",
     "output_type": "stream",
     "text": [
      "(5993,) (5993,)\n",
      "(1998,) (1998,)\n"
     ]
    }
   ],
   "source": [
    "# split X and y into training and testing sets. \n",
    "# By default, it splits 75% training and 25% test\n",
    "# random_state=1 for reproducibility\n",
    "X_train, X_test, y_train, y_test = train_test_split(X, y, random_state=1)\n",
    "print(X_train.shape, y_train.shape)\n",
    "print(X_test.shape, y_test.shape)"
   ]
  },
  {
   "cell_type": "code",
   "execution_count": 24,
   "id": "9c020a7d-ffb5-43cd-ae4f-05061ec94f52",
   "metadata": {},
   "outputs": [
    {
     "name": "stdout",
     "output_type": "stream",
     "text": [
      "(5993, 49562) (1998, 49562)\n"
     ]
    }
   ],
   "source": [
    "# Step 2: Preprocess and Vectorize train and test data\n",
    "\n",
    "# import feature extraction methods from sklearn\n",
    "from sklearn.feature_extraction.text import CountVectorizer\n",
    "\n",
    "vect = CountVectorizer(preprocessor=clean, stop_words='english') # instantiate a vectoriezer\n",
    "X_train_dtm = vect.fit_transform(X_train) # use it to extract features from training data\n",
    "\n",
    "# transform testing data (using training data's features)\n",
    "X_test_dtm = vect.transform(X_test)\n",
    "print(X_train_dtm.shape, X_test_dtm.shape)"
   ]
  },
  {
   "cell_type": "code",
   "execution_count": 27,
   "id": "efa86b85-27dd-4530-a625-f575e8240e3c",
   "metadata": {},
   "outputs": [
    {
     "name": "stdout",
     "output_type": "stream",
     "text": [
      "CPU times: total: 31.2 ms\n",
      "Wall time: 7.02 ms\n"
     ]
    }
   ],
   "source": [
    "# Step 3: Train the classifier and predict for test data\n",
    "\n",
    "# import classifiers from sklearn\n",
    "from sklearn.naive_bayes import MultinomialNB\n",
    "\n",
    "nb = MultinomialNB() # instantiate a Multinomial Naive Bayes model\n",
    "%time nb.fit(X_train_dtm, y_train) # train the model(timing it with an IPython \"magic command\")\n",
    "y_test_pred = nb.predict(X_test_dtm) # make class predictions for X_test_dtm"
   ]
  },
  {
   "cell_type": "code",
   "execution_count": 35,
   "id": "0ccaf6e8-047b-4084-beab-f296e5697445",
   "metadata": {},
   "outputs": [
    {
     "data": {
      "text/plain": [
       "Text(0.5, 23.52222222222222, 'Predicted')"
      ]
     },
     "execution_count": 35,
     "metadata": {},
     "output_type": "execute_result"
    },
    {
     "data": {
      "image/png": "[encoded data removed]",
      "text/plain": [
       "<Figure size 640x480 with 2 Axes>"
      ]
     },
     "metadata": {},
     "output_type": "display_data"
    }
   ],
   "source": [
    "# Step 4: Evaluate the classifier using various measures\n",
    "\n",
    "from sklearn import metrics\n",
    "import numpy as np\n",
    "import seaborn as sns\n",
    "import matplotlib.pyplot as plt\n",
    "\n",
    "cm = metrics.confusion_matrix(y_test, y_test_pred)\n",
    "actual = np.sum(cm, axis=1).reshape(-1, 1)\n",
    "cmn = np.round(cm/actual, 2)\n",
    "\n",
    "\n",
    "sns.heatmap(cmn, annot=True, fmt='.2f', xticklabels=nb.classes_, yticklabels=nb.classes_)\n",
    "plt.ylabel('Actual')\n",
    "plt.xlabel('Predicted')"
   ]
  },
  {
   "cell_type": "markdown",
   "id": "1cabe4ef-4f68-4194-99b3-784d56e5cc09",
   "metadata": {},
   "source": [
    "At this point, we can notice that the classifier is doing poorly with identifying relevant articles, while it is doing well with non-relevant ones. \n",
    "\n",
    "**Potential Reasons for poor classifier performance**\n",
    "1. Perhaps we need to balance the data - Clearly there is class imbalance\n",
    "2. Perhaps we need a better learning algorithm - Implement Logistic Regression, SVM, RF, etc...\n",
    "3. Perhaps we should look for tuning the classifier's parameter with the help of Hyperparameter Tuning\n",
    "4. Perhaps we need a better pre-processing and feature extraction mechanism - Right now we have a sparse and large feature vector\n",
    "\n",
    "**Let's work with potential reason number 4.**  \n",
    "Our large feature vector could be creating a lot of noise in the form of very rarely occurring features that are not useful for learning. Let us change the count vectorizer to take a certain number of features as maximum."
   ]
  },
  {
   "cell_type": "code",
   "execution_count": 36,
   "id": "f1d4dd36-21d9-4162-b33e-8e3c01aceb3d",
   "metadata": {},
   "outputs": [
    {
     "name": "stdout",
     "output_type": "stream",
     "text": [
      "(5993, 5000) (1998, 5000)\n"
     ]
    }
   ],
   "source": [
    "vect = CountVectorizer(preprocessor=clean, stop_words='english', max_features=5000) # instantiate a vectoriezer\n",
    "X_train_dtm = vect.fit_transform(X_train) # use it to extract features from training data\n",
    "\n",
    "# transform testing data (using training data's features)\n",
    "X_test_dtm = vect.transform(X_test)\n",
    "print(X_train_dtm.shape, X_test_dtm.shape)"
   ]
  },
  {
   "cell_type": "code",
   "execution_count": 37,
   "id": "0888b186-e5a0-4726-bfe3-10af82b9f000",
   "metadata": {},
   "outputs": [
    {
     "name": "stdout",
     "output_type": "stream",
     "text": [
      "CPU times: total: 0 ns\n",
      "Wall time: 5.98 ms\n"
     ]
    }
   ],
   "source": [
    "from sklearn.naive_bayes import MultinomialNB\n",
    "\n",
    "nb = MultinomialNB() # instantiate a Multinomial Naive Bayes model\n",
    "%time nb.fit(X_train_dtm, y_train) # train the model(timing it with an IPython \"magic command\")\n",
    "y_test_pred = nb.predict(X_test_dtm) # make class predictions for X_test_dtm"
   ]
  },
  {
   "cell_type": "code",
   "execution_count": 38,
   "id": "6079d04d-3bcb-4955-ba0a-7176349441cb",
   "metadata": {},
   "outputs": [
    {
     "data": {
      "text/plain": [
       "Text(0.5, 23.52222222222222, 'Predicted')"
      ]
     },
     "execution_count": 38,
     "metadata": {},
     "output_type": "execute_result"
    },
    {
     "data": {
      "image/png": "[encoded data removed]",
      "text/plain": [
       "<Figure size 640x480 with 2 Axes>"
      ]
     },
     "metadata": {},
     "output_type": "display_data"
    }
   ],
   "source": [
    "cm = metrics.confusion_matrix(y_test, y_test_pred)\n",
    "actual = np.sum(cm, axis=1).reshape(-1, 1)\n",
    "cmn = np.round(cm/actual, 2)\n",
    "\n",
    "sns.heatmap(cmn, annot=True, fmt='.2f', xticklabels=nb.classes_, yticklabels=nb.classes_)\n",
    "plt.ylabel('Actual')\n",
    "plt.xlabel('Predicted')"
   ]
  },
  {
   "cell_type": "markdown",
   "id": "6b5b4449-ea44-4996-b091-ea560e5a1895",
   "metadata": {},
   "source": [
    "Clearly, the performance on relevance classification got better.\n",
    "\n",
    "Now, you can consider **trying a better feature representation technique for text data.** I have mentioned various feature representation techniques below. "
   ]
  },
  {
   "cell_type": "markdown",
   "id": "850957d0-95ea-4740-9e7b-06a4272a5874",
   "metadata": {},
   "source": [
    "## **Various Feature Representation Techniques**\n",
    "\n",
    "Feature representation for text are classified into four categories:  \n",
    "- **Basic Vectorization Approaches**\n",
    "   - Eg: One-Hot Encoding, Bag of Words, Bag of N-Grams, and TFIDF\n",
    "   - Drawbacks: They are discrete representations, vector representation is sparse and hig-dimensional, and they cannot handle OOV words.\n",
    "- **Distributed Representations**\n",
    "   - Eg: Word Embeddings (Word2Vec, GloVe, fastText), Document Embeddings (Doc2Vec)\n",
    "   - Text embeddings are a way to represent words or phrases as vectors in a high-dimensional space based on their contextual meaning within a corpus of text data. The idea is that if two phrases are similar then the vectors that represent those phrases should be close together and vice versa.\n",
    "   - Word2Vec Arcitecture - Continuous Bag of Words (CBOW) and SkipGram\n",
    "   - Word2Vec don't have a good way of handling OOV words\n",
    "   - **Handling OOV words problem:** One way is by modifying the training process by bringing in characters and other sub-level linguistic components such as morphological properties (e.g., prefixes, suffixes, word endings, etc...). **FastText** from facebook follows this approach.\n",
    "   - Drawbacks: Above techniques only provide word embeddings. Inorder to get document embedding, we can aggregate the word embeddings to get document embeddings. But, for sentences \"dog bites man\" and \"man bites dog\", both will receive same representation.\n",
    "   - Doc2Vec: Based on Paragraph vector framework. Neural network used to learn Doc2Vec embeddings is very similar to CBOW and SkipGram architecture of Word2Vec.\n",
    "   - Doc2Vec Architecture - Distributed Memory (DM) and Distributed Bag of Words (DBOW)\n",
    "- **Universal Language Representaion**\n",
    "   - Problem in all the above approaches: One word gets one fixed representation\n",
    "   - Eg: \"I went to bank to withdraw money\" and \"I sat on the river bank\" both uses the word \"bank\"\n",
    "   - In 2018 - Researchers came with **Contextual Word Representations**, which addresses the above problem\n",
    "   - **Remember:** Recently, Contextual Word Representations are learned by using the word embeddings we discussed earlier (like Word2Vec) and training on **language modeling** task using complex neural architecture (like RNNs and Transformers).\n",
    "   - **Language Modeling:** It is a task of predicting the next likely word in a sequence of words. In its earliest form, it used the idea of n-gram frequencies to estimate the probability of the next word given a history of words.\n",
    "   - **Key Idea:** Learn embedding on a generic task like language modeling on a massive corpus and then fine-tune learnings on a task-specific data. This is also known as **transfer learning**.\n",
    "   - **How to decide whether to train our own embeddings or use pre-trained embeddings?** - A good rule of thumb is to compute the vocabulary overlap. If the overlap between the vocabulary of our custom domain and that of pre-trained word embeddings is significant, pre-trained word embeddings tends to give good results.\n",
    "   - **One more important factor to consider while deploying models with embeddings-based feature extraction approach:** - Remember that learned or pre-trained embedding models have to be stored and loaded into memory while using these approaches. If the model itself is bulky, we need to factor this into our deployment needs.\n",
    "- **Handcrafted Features**\n",
    "   - These features have to be designed manually, keeping in mind both the domain knowledge and the ML algorithms to train the NLP models.\n",
    "   - Custom feature engineering is much more difficult to formulate compared to other feature engineering schemes we've seen so far.  \n",
    "\n",
    "\n",
    "## **What is Language Modeling?**\n",
    "1. Language Modeling involves creation of statistical/deep learning models for predicting the likelyhood of a sequence of tokens in a specified vocabulary.\n",
    "2. Two types of Language Modeling Tasks are:  \n",
    "    a. Autoencoding Task  \n",
    "    b. Autoregressive Task  \n",
    "3. **Autoregressive Language Models** are trained to predict the next token in a sentence, based on the previous tokens in the phrase. These models correspond to the **decoder** part of the transformer model. A mask is applied on the full sentence so that the attention head can only see the tokens that came before. These models are ideal for text generatation. For eg: **GPT**\n",
    "4. **Autoencoding Language Models** are trained to reconstruct the original sentence from a corrupted version of the input. These models correspond to the **encoder** part of the transformer model. Full input is passed. No mask is applied. Autoencoding models create a bidirectional representation of the whole sentence. They can be fine-tuned for a variety of tasks, but their main application is sentence classification or token classification. For eg: **BERT**\n",
    "5. **Combination of autoregressive and autoencoding language models** are more versatile and flexible in generating text. It has been shown that the combination models can generate more diverse and creative text in different context compared to pure decode-based autoregressive models due to their ability to capture additional context using the encoder. For eg: **T5**\n"
   ]
  },
  {
   "cell_type": "markdown",
   "id": "b8dba930-1530-4a04-88be-db9c50617e50",
   "metadata": {},
   "source": [
    "## **Some Real Time Applications**\n",
    "- Content Classification and Organisation\n",
    "    - Tagging product description in an e-commerce website\n",
    "    - Language Identification\n",
    "    - Segregating fake news from real news\n",
    "    - Identifying the unknown authors of texts from a pool of authors - Also used in Forensic Analysis\n",
    "    - Organizing emails into personal, social and promotions in Gmail\n",
    "    - Use case for news website, blogs, online nookshelves, product reviews, tweets, etc...\n",
    "- Customer Support\n",
    "    - Text classification is often used to identify the tweets that brands must respond to and those that don't require a response.\n",
    "    - Routing customer service request in a company to the appropriate support team\n",
    "    - Chat assistants or Virtual assistants\n",
    "- Ecommerce\n",
    "    - Understand and analyze customers perception of a product or service based on their comments (i.e. Sentiment Analysis)\n",
    "- Social Media\n",
    "    - Sentiment Analysis\n",
    "    - Rumor/Fake News Detection\n",
    "    - Adult Content Filtering\n",
    "    - Trending topic detection\n",
    "    - Opinion Mining"
   ]
  },
  {
   "cell_type": "markdown",
   "id": "f16f5932-f1d2-4b7f-826e-ea31584fcb99",
   "metadata": {},
   "source": [
    "## **Use Cases**\n",
    "1. Text Classification\n",
    "    - Sentiment Analysis, Spam Ham Detection, Fake news detection, Adult content filtering, etc...\n",
    "    - **Pipeline without learning** - Given a corpus of tweets where each tweet is labeled with its corresponding sentiment - negative and positive. We want to build a classification system that will predict the sentiment of an unseen tweet using only text of the tweet. A simple solution could be to create a list of positive and negative words in english. Now compute the useage of positive versus negative words in the input tweet and make a prediction based on the information. Further enhancements to this approach may involve creating more sophisticated dictionaries with degrees of positive, negative and neutral sentiment of words or formulating specific heuristics (e.g., useage of certain smileys indicate positive sentiment) and using them to make predictions. This approach is called `lexicon-based sentiment analysis`.\n",
    "    - Pipeline with ML/DL Approaches\n",
    "2. Information Extraction\n",
    "    - Keyphrase Extraction: Extraction of bunch of commonly used keywords or phrases from the text data.\n",
    "    - Named Entity Recognition: Task of Identifying the entities in a document. Entities are typically name of person, location and organizations. It can also be dates, products, names/numbers of laws or article, etc...\n",
    "    - Quick Note: POS Tagging can improve the NER performance.\n",
    "    - NER is not a normal classification task. It is modeled as a sequence classification problem, because if you think about it entity prediction for the current word also depends on the context.\n",
    "    - To illustrate the difference between a normal classifier and a sequence classifier, conside the following sentence: \"Washington is a rainy state.\" When a normal classifier sees this sentence and has to classify it word by word, it has to make a decision as to whether Washington refers to a person or the State, without looking at the surroundeing words. Conditional Random Fields (CRFs) were classical popular sequence classifier training algorithms. Now a days, there are RNNs, LSTMs, Transformers, etc that can generate state-of-the-art results.\n",
    "    - Named Entity Disambiguation (NED) and Linking (NEL), Relationship Extraction, etc...: Use Azure or Google API\n",
    "3. Search and Information Retrieval\n",
    "4. Chatbot\n",
    "5. Topic Modeling and\n",
    "6. Text Generation\n",
    "7. Text Summarization\n",
    "8. Machine Translation\n",
    "9. Question and Answering"
   ]
  },
  {
   "cell_type": "code",
   "execution_count": null,
   "id": "b64ff9bd-b3bf-4f6f-898f-9bbb40de13fe",
   "metadata": {},
   "outputs": [],
   "source": []
  }
 ],
 "metadata": {
  "kernelspec": {
   "display_name": "Python 3 (ipykernel)",
   "language": "python",
   "name": "python3"
  },
  "language_info": {
   "codemirror_mode": {
    "name": "ipython",
    "version": 3
   },
   "file_extension": ".py",
   "mimetype": "text/x-python",
   "name": "python",
   "nbconvert_exporter": "python",
   "pygments_lexer": "ipython3",
   "version": "3.9.13"
  }
 },
 "nbformat": 4,
 "nbformat_minor": 5
}
