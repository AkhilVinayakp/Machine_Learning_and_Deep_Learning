{
 "cells": [
  {
   "cell_type": "markdown",
   "id": "301cf4f1-8e6d-48a8-8548-a918ce81e997",
   "metadata": {},
   "source": [
    "# Plotting with Seaborn"
   ]
  },
  {
   "cell_type": "code",
   "execution_count": 1,
   "id": "66d05595-285e-4752-9de3-8edf9b629a1a",
   "metadata": {},
   "outputs": [],
   "source": [
    "import numpy as np\n",
    "import pandas as pd\n",
    "import matplotlib.pyplot as plt\n",
    "import seaborn as sns"
   ]
  },
  {
   "cell_type": "markdown",
   "id": "72408d01-e78c-4073-9573-1072beb72fd3",
   "metadata": {},
   "source": [
    "## Univariate Analysis (for Numerical Variables)"
   ]
  },
  {
   "cell_type": "code",
   "execution_count": 2,
   "id": "d2a68f61-c16a-47c5-88d1-3d0dd17fd781",
   "metadata": {},
   "outputs": [
    {
     "name": "stdout",
     "output_type": "stream",
     "text": [
      "(1000, 2)\n"
     ]
    },
    {
     "data": {
      "text/html": [
       "<div>\n",
       "<style scoped>\n",
       "    .dataframe tbody tr th:only-of-type {\n",
       "        vertical-align: middle;\n",
       "    }\n",
       "\n",
       "    .dataframe tbody tr th {\n",
       "        vertical-align: top;\n",
       "    }\n",
       "\n",
       "    .dataframe thead th {\n",
       "        text-align: right;\n",
       "    }\n",
       "</style>\n",
       "<table border=\"1\" class=\"dataframe\">\n",
       "  <thead>\n",
       "    <tr style=\"text-align: right;\">\n",
       "      <th></th>\n",
       "      <th>x</th>\n",
       "      <th>y</th>\n",
       "    </tr>\n",
       "  </thead>\n",
       "  <tbody>\n",
       "    <tr>\n",
       "      <th>0</th>\n",
       "      <td>0.645829</td>\n",
       "      <td>2.093071</td>\n",
       "    </tr>\n",
       "    <tr>\n",
       "      <th>1</th>\n",
       "      <td>-1.157771</td>\n",
       "      <td>1.786407</td>\n",
       "    </tr>\n",
       "    <tr>\n",
       "      <th>2</th>\n",
       "      <td>-0.813059</td>\n",
       "      <td>-0.712966</td>\n",
       "    </tr>\n",
       "    <tr>\n",
       "      <th>3</th>\n",
       "      <td>0.503495</td>\n",
       "      <td>-0.311660</td>\n",
       "    </tr>\n",
       "    <tr>\n",
       "      <th>4</th>\n",
       "      <td>1.766398</td>\n",
       "      <td>2.494042</td>\n",
       "    </tr>\n",
       "  </tbody>\n",
       "</table>\n",
       "</div>"
      ],
      "text/plain": [
       "          x         y\n",
       "0  0.645829  2.093071\n",
       "1 -1.157771  1.786407\n",
       "2 -0.813059 -0.712966\n",
       "3  0.503495 -0.311660\n",
       "4  1.766398  2.494042"
      ]
     },
     "execution_count": 2,
     "metadata": {},
     "output_type": "execute_result"
    }
   ],
   "source": [
    "df = pd.read_csv('data/random.csv')\n",
    "\n",
    "print(df.shape)\n",
    "\n",
    "df.head()"
   ]
  },
  {
   "cell_type": "code",
   "execution_count": 4,
   "id": "326f7b00-9c6d-4fc3-affc-47607fe668a6",
   "metadata": {},
   "outputs": [],
   "source": [
    "# displot - hist, kde, ecdf"
   ]
  },
  {
   "cell_type": "code",
   "execution_count": null,
   "id": "40b4eef6-9d0b-4487-8172-67d61df419a4",
   "metadata": {},
   "outputs": [],
   "source": [
    "# Strip plot\n",
    "\n",
    "sns.stripplot(data = tips, x = 'day', y='total_bill')"
   ]
  },
  {
   "cell_type": "code",
   "execution_count": null,
   "id": "48aa116d-9547-4806-935a-9c62c425d97f",
   "metadata": {},
   "outputs": [],
   "source": [
    "# Swarm Plot\n",
    "# This function is similar to stripplot(), but the points are adjusted (only along the categorical axis) so that they don’t overlap. This gives a better representation of the distribution of values, but it does not scale well to large numbers of observations. This style of plot is sometimes called a “beeswarm”.\n",
    "\n",
    "sns.swarmplot(data = tips, x='day', y='total_bill')"
   ]
  },
  {
   "cell_type": "code",
   "execution_count": 5,
   "id": "86de1787-2744-4340-8917-b4d30ab36b07",
   "metadata": {},
   "outputs": [],
   "source": [
    "# boxplot\n",
    "\n",
    "sns.boxplot(data = tips, x='day', y='total_bill')\n",
    "######################################################\n",
    "\n",
    "sns.boxplot(data=tips, x='day', y='total_bill', hue='time')\n",
    "#######################################################\n",
    "\n",
    "sns.boxplot(data=tips, x='day', y='total_bill', hue='weekend')\n",
    "########################################################\n",
    "\n",
    "sns.boxplot(x='sex', y='age', data=titanic)"
   ]
  },
  {
   "cell_type": "code",
   "execution_count": 11,
   "id": "c595eee6-93b1-4ddf-83e7-1216e3ca3472",
   "metadata": {},
   "outputs": [],
   "source": [
    "# Count Plot\n",
    "sns.countplot(x='class', data=titanic, palette='Greens_d')"
   ]
  },
  {
   "cell_type": "code",
   "execution_count": 10,
   "id": "cc923783-d346-4ece-a8bd-6653fb513ef5",
   "metadata": {},
   "outputs": [],
   "source": [
    "# Bar Plot\n",
    "\n",
    "sns.barplot(x='sex', y='age', data=titanic)\n",
    "#####################################################\n",
    "\n",
    "plt.figure(figsize=(12, 6))\n",
    "\n",
    "plt.subplot(121)\n",
    "sns.barplot(x='sex', y='age', data=titanic)\n",
    "plt.title('Avg Age')\n",
    "\n",
    "plt.subplot(122)\n",
    "sns.barplot(x='sex', y='age', data=titanic, estimator = np.median)\n",
    "plt.title('Median Age')\n",
    "\n",
    "plt.show()\n",
    "####################################################\n",
    "\n",
    "sns.barplot(x='sex', y='survived', data=titanic)\n",
    "####################################################\n",
    "\n",
    "sns.barplot(x='sex', y='survived', hue='class', data=titanic)"
   ]
  },
  {
   "cell_type": "code",
   "execution_count": 6,
   "id": "0607bdc3-5432-47c0-9267-5c957418ac50",
   "metadata": {},
   "outputs": [],
   "source": [
    "# Scatter Plot"
   ]
  },
  {
   "cell_type": "code",
   "execution_count": 8,
   "id": "e0315ba4-4489-44a0-8e19-aad2980f0329",
   "metadata": {},
   "outputs": [],
   "source": [
    "# Hexbin plot"
   ]
  },
  {
   "cell_type": "code",
   "execution_count": 9,
   "id": "f62cbb9d-1810-4474-a07e-3b7bb55db8a2",
   "metadata": {},
   "outputs": [],
   "source": [
    "# Pair Plot"
   ]
  },
  {
   "cell_type": "code",
   "execution_count": null,
   "id": "eb71c24b-4797-4c21-88ad-cce51067b2dd",
   "metadata": {},
   "outputs": [],
   "source": []
  },
  {
   "cell_type": "code",
   "execution_count": null,
   "id": "b486ee52-fd5a-4dc5-a988-32aa9e1a67ce",
   "metadata": {},
   "outputs": [],
   "source": []
  },
  {
   "cell_type": "code",
   "execution_count": null,
   "id": "d611dd73-e810-458e-bb70-831efd6a8a64",
   "metadata": {},
   "outputs": [],
   "source": []
  },
  {
   "cell_type": "code",
   "execution_count": null,
   "id": "c5a80cc6-ace0-41a0-b4da-0bde85d1779f",
   "metadata": {},
   "outputs": [],
   "source": []
  },
  {
   "cell_type": "code",
   "execution_count": null,
   "id": "34e7b2f7-37be-4aac-9c79-0fc17b93188c",
   "metadata": {},
   "outputs": [],
   "source": []
  },
  {
   "cell_type": "code",
   "execution_count": null,
   "id": "6c9bf893-f144-4c0f-95c0-db56f05a1b8d",
   "metadata": {},
   "outputs": [],
   "source": []
  },
  {
   "cell_type": "code",
   "execution_count": null,
   "id": "88cc3401-7030-4c20-88a3-1888c5b65a09",
   "metadata": {},
   "outputs": [],
   "source": []
  },
  {
   "cell_type": "code",
   "execution_count": null,
   "id": "22cdea56-d76d-4e07-8bdc-acd6cc366a39",
   "metadata": {},
   "outputs": [],
   "source": []
  },
  {
   "cell_type": "code",
   "execution_count": null,
   "id": "6e2b8da2-066d-4a5d-a215-a605054488ee",
   "metadata": {},
   "outputs": [],
   "source": []
  },
  {
   "cell_type": "code",
   "execution_count": null,
   "id": "6dd50c31-117d-4c04-955c-d0b0155d2de7",
   "metadata": {},
   "outputs": [],
   "source": []
  },
  {
   "cell_type": "code",
   "execution_count": null,
   "id": "e7dd1f98-dad0-42e6-b589-09ec04c7a40d",
   "metadata": {},
   "outputs": [],
   "source": []
  },
  {
   "cell_type": "code",
   "execution_count": null,
   "id": "38195ac5-c721-4b1b-83d9-6345bab8b9a4",
   "metadata": {},
   "outputs": [],
   "source": []
  },
  {
   "cell_type": "code",
   "execution_count": null,
   "id": "923d73c5-dccb-4c1b-9646-f548766056a9",
   "metadata": {},
   "outputs": [],
   "source": []
  }
 ],
 "metadata": {
  "kernelspec": {
   "display_name": "Python 3 (ipykernel)",
   "language": "python",
   "name": "python3"
  },
  "language_info": {
   "codemirror_mode": {
    "name": "ipython",
    "version": 3
   },
   "file_extension": ".py",
   "mimetype": "text/x-python",
   "name": "python",
   "nbconvert_exporter": "python",
   "pygments_lexer": "ipython3",
   "version": "3.9.13"
  }
 },
 "nbformat": 4,
 "nbformat_minor": 5
}
