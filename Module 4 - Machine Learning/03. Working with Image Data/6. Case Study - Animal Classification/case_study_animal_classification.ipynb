{
 "cells": [
  {
   "cell_type": "markdown",
   "id": "d06ba7b8-1c02-402e-ba0d-f6845086a967",
   "metadata": {},
   "source": [
    "### **1. Loading the data**"
   ]
  },
  {
   "cell_type": "code",
   "execution_count": 49,
   "id": "a159d48a-3230-488d-bb72-df2c1452ee29",
   "metadata": {},
   "outputs": [],
   "source": [
    "import pandas as pd\n",
    "import numpy as np\n",
    "\n",
    "import os\n",
    "\n",
    "from PIL import Image\n",
    "import matplotlib.pyplot as plt"
   ]
  },
  {
   "cell_type": "code",
   "execution_count": 15,
   "id": "e13bfaea-dea8-41e1-b69b-64f5365c18d5",
   "metadata": {},
   "outputs": [],
   "source": [
    "path = 'data/.raw-img/'"
   ]
  },
  {
   "cell_type": "markdown",
   "id": "62c0667b-8103-4d2c-853d-d1c9ebdc5224",
   "metadata": {},
   "source": [
    "### **What are the file extensions?**"
   ]
  },
  {
   "cell_type": "code",
   "execution_count": 16,
   "id": "187cfc80-ae67-46f2-bb53-d530b263aa43",
   "metadata": {},
   "outputs": [
    {
     "name": "stdout",
     "output_type": "stream",
     "text": [
      "Reading images from data/.raw-img/. Found 0 files.\n",
      "Reading images from data/.raw-img/cane. Found 4863 files.\n",
      "Reading images from data/.raw-img/cavallo. Found 2623 files.\n",
      "Reading images from data/.raw-img/elefante. Found 1446 files.\n",
      "Reading images from data/.raw-img/farfalla. Found 2112 files.\n",
      "Reading images from data/.raw-img/gallina. Found 3098 files.\n",
      "Reading images from data/.raw-img/gatto. Found 1668 files.\n",
      "Reading images from data/.raw-img/mucca. Found 1866 files.\n",
      "Reading images from data/.raw-img/pecora. Found 1820 files.\n",
      "Reading images from data/.raw-img/ragno. Found 4821 files.\n",
      "Reading images from data/.raw-img/scoiattolo. Found 1862 files.\n",
      "26179\n",
      "{'.jpg', '.png', '.jpeg'}\n"
     ]
    }
   ],
   "source": [
    "file_extensions = []\n",
    "for root, dirs, files in os.walk(path):\n",
    "    print(f\"Reading images from {root}. Found {len(files)} files.\")\n",
    "    for file_name in files:\n",
    "        file_extensions.append(os.path.splitext(file_name)[-1])\n",
    "        file_path = os.path.join(root, file_name)\n",
    "\n",
    "print(len(file_extensions))\n",
    "print(set(file_extensions))"
   ]
  },
  {
   "cell_type": "markdown",
   "id": "6f7b165c-3afa-4b2e-aaf7-207946720249",
   "metadata": {},
   "source": [
    "### **What are the image sizes, extension and mode?**"
   ]
  },
  {
   "cell_type": "code",
   "execution_count": 19,
   "id": "9ddbc185-0821-4b32-a9d5-21db20ef8caa",
   "metadata": {},
   "outputs": [],
   "source": [
    "def read_image_files(path):\n",
    "    images_data = []\n",
    "    for root, dirs, files in os.walk(path):\n",
    "        print(f\"Reading images from {root}. Found {len(files)} files.\")\n",
    "        for file_name in files:\n",
    "            extension = os.path.splitext(file_name)[-1]\n",
    "            if extension in file_extensions:\n",
    "                file_path = os.path.join(root, file_name)\n",
    "                img = Image.open(file_path)\n",
    "                images_data.append({\"file_name\": file_name,\n",
    "                                    \"extension\": extension, \n",
    "                                    \"size\": img.size, \n",
    "                                    \"mode\": img.mode, \n",
    "                                    \"dir\": root})\n",
    "    return images_data\n",
    "\n",
    "def load_into_df(images_data):\n",
    "    df = pd.DataFrame(images_data)\n",
    "    return df"
   ]
  },
  {
   "cell_type": "code",
   "execution_count": 21,
   "id": "b0611b34-092f-46f0-9dab-dd3491c74520",
   "metadata": {},
   "outputs": [
    {
     "name": "stdout",
     "output_type": "stream",
     "text": [
      "Reading images from data/.raw-img/. Found 0 files.\n",
      "Reading images from data/.raw-img/cane. Found 4863 files.\n",
      "Reading images from data/.raw-img/cavallo. Found 2623 files.\n",
      "Reading images from data/.raw-img/elefante. Found 1446 files.\n",
      "Reading images from data/.raw-img/farfalla. Found 2112 files.\n",
      "Reading images from data/.raw-img/gallina. Found 3098 files.\n",
      "Reading images from data/.raw-img/gatto. Found 1668 files.\n",
      "Reading images from data/.raw-img/mucca. Found 1866 files.\n",
      "Reading images from data/.raw-img/pecora. Found 1820 files.\n",
      "Reading images from data/.raw-img/ragno. Found 4821 files.\n",
      "Reading images from data/.raw-img/scoiattolo. Found 1862 files.\n",
      "CPU times: total: 10.9 s\n",
      "Wall time: 2min 30s\n"
     ]
    },
    {
     "data": {
      "text/html": [
       "<div>\n",
       "<style scoped>\n",
       "    .dataframe tbody tr th:only-of-type {\n",
       "        vertical-align: middle;\n",
       "    }\n",
       "\n",
       "    .dataframe tbody tr th {\n",
       "        vertical-align: top;\n",
       "    }\n",
       "\n",
       "    .dataframe thead th {\n",
       "        text-align: right;\n",
       "    }\n",
       "</style>\n",
       "<table border=\"1\" class=\"dataframe\">\n",
       "  <thead>\n",
       "    <tr style=\"text-align: right;\">\n",
       "      <th></th>\n",
       "      <th>file_name</th>\n",
       "      <th>extension</th>\n",
       "      <th>size</th>\n",
       "      <th>mode</th>\n",
       "      <th>dir</th>\n",
       "    </tr>\n",
       "  </thead>\n",
       "  <tbody>\n",
       "    <tr>\n",
       "      <th>0</th>\n",
       "      <td>OIF-e2bexWrojgtQnAPPcUfOWQ.jpeg</td>\n",
       "      <td>.jpeg</td>\n",
       "      <td>(300, 225)</td>\n",
       "      <td>RGB</td>\n",
       "      <td>data/.raw-img/cane</td>\n",
       "    </tr>\n",
       "    <tr>\n",
       "      <th>1</th>\n",
       "      <td>OIP---A27bIBcUgX1qkbpZOPswHaFS.jpeg</td>\n",
       "      <td>.jpeg</td>\n",
       "      <td>(300, 214)</td>\n",
       "      <td>RGB</td>\n",
       "      <td>data/.raw-img/cane</td>\n",
       "    </tr>\n",
       "    <tr>\n",
       "      <th>2</th>\n",
       "      <td>OIP---cByAiEbIxIAleGo9AqOQAAAA.jpeg</td>\n",
       "      <td>.jpeg</td>\n",
       "      <td>(153, 300)</td>\n",
       "      <td>RGB</td>\n",
       "      <td>data/.raw-img/cane</td>\n",
       "    </tr>\n",
       "    <tr>\n",
       "      <th>3</th>\n",
       "      <td>OIP---ZIdwfUcJeVxnh47zppcQHaFj.jpeg</td>\n",
       "      <td>.jpeg</td>\n",
       "      <td>(300, 225)</td>\n",
       "      <td>RGB</td>\n",
       "      <td>data/.raw-img/cane</td>\n",
       "    </tr>\n",
       "    <tr>\n",
       "      <th>4</th>\n",
       "      <td>OIP---ZRsOF7zsMqhW30WeF8-AHaFj.jpeg</td>\n",
       "      <td>.jpeg</td>\n",
       "      <td>(300, 225)</td>\n",
       "      <td>RGB</td>\n",
       "      <td>data/.raw-img/cane</td>\n",
       "    </tr>\n",
       "  </tbody>\n",
       "</table>\n",
       "</div>"
      ],
      "text/plain": [
       "                             file_name extension        size mode  \\\n",
       "0      OIF-e2bexWrojgtQnAPPcUfOWQ.jpeg     .jpeg  (300, 225)  RGB   \n",
       "1  OIP---A27bIBcUgX1qkbpZOPswHaFS.jpeg     .jpeg  (300, 214)  RGB   \n",
       "2  OIP---cByAiEbIxIAleGo9AqOQAAAA.jpeg     .jpeg  (153, 300)  RGB   \n",
       "3  OIP---ZIdwfUcJeVxnh47zppcQHaFj.jpeg     .jpeg  (300, 225)  RGB   \n",
       "4  OIP---ZRsOF7zsMqhW30WeF8-AHaFj.jpeg     .jpeg  (300, 225)  RGB   \n",
       "\n",
       "                  dir  \n",
       "0  data/.raw-img/cane  \n",
       "1  data/.raw-img/cane  \n",
       "2  data/.raw-img/cane  \n",
       "3  data/.raw-img/cane  \n",
       "4  data/.raw-img/cane  "
      ]
     },
     "execution_count": 21,
     "metadata": {},
     "output_type": "execute_result"
    }
   ],
   "source": [
    "%%time\n",
    "\n",
    "images_data = read_image_files(path)\n",
    "\n",
    "df = load_into_df(images_data)\n",
    "\n",
    "df.head()"
   ]
  },
  {
   "cell_type": "code",
   "execution_count": 22,
   "id": "2e071b8a-f630-4aa4-adb6-a5d8093fe896",
   "metadata": {},
   "outputs": [
    {
     "data": {
      "text/plain": [
       "extension\n",
       ".jpeg    24209\n",
       ".jpg      1919\n",
       ".png        51\n",
       "Name: count, dtype: int64"
      ]
     },
     "execution_count": 22,
     "metadata": {},
     "output_type": "execute_result"
    }
   ],
   "source": [
    "df[\"extension\"].value_counts()"
   ]
  },
  {
   "cell_type": "code",
   "execution_count": 23,
   "id": "79fcc1a3-cb96-4ae9-b9ae-e33f1fc6a9b8",
   "metadata": {},
   "outputs": [
    {
     "data": {
      "text/plain": [
       "mode\n",
       "RGB     26128\n",
       "RGBA       49\n",
       "L           1\n",
       "CMYK        1\n",
       "Name: count, dtype: int64"
      ]
     },
     "execution_count": 23,
     "metadata": {},
     "output_type": "execute_result"
    }
   ],
   "source": [
    "df[\"mode\"].value_counts()"
   ]
  },
  {
   "cell_type": "code",
   "execution_count": 32,
   "id": "a2b7ba80-7891-4ed8-b009-70ea3c7f80f8",
   "metadata": {},
   "outputs": [
    {
     "data": {
      "text/plain": [
       "array(['RGB', 'RGBA', 'L', 'CMYK'], dtype=object)"
      ]
     },
     "execution_count": 32,
     "metadata": {},
     "output_type": "execute_result"
    }
   ],
   "source": [
    "df[\"mode\"].unique()"
   ]
  },
  {
   "cell_type": "code",
   "execution_count": 24,
   "id": "31258f7c-c2c5-497f-a7ad-dcb906f6d5fb",
   "metadata": {},
   "outputs": [
    {
     "data": {
      "text/plain": [
       "dir\n",
       "data/.raw-img/cane          4863\n",
       "data/.raw-img/ragno         4821\n",
       "data/.raw-img/gallina       3098\n",
       "data/.raw-img/cavallo       2623\n",
       "data/.raw-img/farfalla      2112\n",
       "data/.raw-img/mucca         1866\n",
       "data/.raw-img/scoiattolo    1862\n",
       "data/.raw-img/pecora        1820\n",
       "data/.raw-img/gatto         1668\n",
       "data/.raw-img/elefante      1446\n",
       "Name: count, dtype: int64"
      ]
     },
     "execution_count": 24,
     "metadata": {},
     "output_type": "execute_result"
    }
   ],
   "source": [
    "df[\"dir\"].value_counts()"
   ]
  },
  {
   "cell_type": "code",
   "execution_count": 33,
   "id": "69486b19-6bc2-4c93-bcdb-51f3ab731d0d",
   "metadata": {},
   "outputs": [
    {
     "data": {
      "text/plain": [
       "array(['data/.raw-img/cane', 'data/.raw-img/cavallo',\n",
       "       'data/.raw-img/elefante', 'data/.raw-img/farfalla',\n",
       "       'data/.raw-img/gallina', 'data/.raw-img/gatto',\n",
       "       'data/.raw-img/mucca', 'data/.raw-img/pecora',\n",
       "       'data/.raw-img/ragno', 'data/.raw-img/scoiattolo'], dtype=object)"
      ]
     },
     "execution_count": 33,
     "metadata": {},
     "output_type": "execute_result"
    }
   ],
   "source": [
    "df[\"dir\"].unique()"
   ]
  },
  {
   "cell_type": "code",
   "execution_count": 28,
   "id": "64d8bede-87d4-42e1-8abf-562bea6be86a",
   "metadata": {},
   "outputs": [
    {
     "data": {
      "text/plain": [
       "size\n",
       "(300, 225)    4397\n",
       "(300, 200)    3281\n",
       "(300, 300)    1192\n",
       "(300, 169)    1048\n",
       "(640, 426)     694\n",
       "              ... \n",
       "(640, 463)       1\n",
       "(463, 640)       1\n",
       "(520, 640)       1\n",
       "(543, 640)       1\n",
       "(180, 213)       1\n",
       "Name: count, Length: 1002, dtype: int64"
      ]
     },
     "execution_count": 28,
     "metadata": {},
     "output_type": "execute_result"
    }
   ],
   "source": [
    "df[\"size\"].value_counts()"
   ]
  },
  {
   "cell_type": "code",
   "execution_count": 31,
   "id": "8f9cf653-3774-4a62-8987-29cdc2530557",
   "metadata": {},
   "outputs": [
    {
     "data": {
      "text/plain": [
       "1002"
      ]
     },
     "execution_count": 31,
     "metadata": {},
     "output_type": "execute_result"
    }
   ],
   "source": [
    "df[\"size\"].nunique()"
   ]
  },
  {
   "cell_type": "code",
   "execution_count": 34,
   "id": "f9185a0a-f51c-418e-9f57-103cba58fee2",
   "metadata": {},
   "outputs": [
    {
     "data": {
      "text/plain": [
       "array([(300, 225), (300, 214), (153, 300), ..., (246, 205), (263, 257),\n",
       "       (180, 213)], dtype=object)"
      ]
     },
     "execution_count": 34,
     "metadata": {},
     "output_type": "execute_result"
    }
   ],
   "source": [
    "df[\"size\"].unique()"
   ]
  },
  {
   "cell_type": "code",
   "execution_count": 35,
   "id": "0a72bccb-0cee-4984-a6e7-fd678c5afd96",
   "metadata": {},
   "outputs": [
    {
     "data": {
      "text/html": [
       "<div>\n",
       "<style scoped>\n",
       "    .dataframe tbody tr th:only-of-type {\n",
       "        vertical-align: middle;\n",
       "    }\n",
       "\n",
       "    .dataframe tbody tr th {\n",
       "        vertical-align: top;\n",
       "    }\n",
       "\n",
       "    .dataframe thead th {\n",
       "        text-align: right;\n",
       "    }\n",
       "</style>\n",
       "<table border=\"1\" class=\"dataframe\">\n",
       "  <thead>\n",
       "    <tr style=\"text-align: right;\">\n",
       "      <th></th>\n",
       "      <th>file_name</th>\n",
       "      <th>extension</th>\n",
       "      <th>size</th>\n",
       "      <th>mode</th>\n",
       "      <th>dir</th>\n",
       "    </tr>\n",
       "  </thead>\n",
       "  <tbody>\n",
       "    <tr>\n",
       "      <th>0</th>\n",
       "      <td>OIF-e2bexWrojgtQnAPPcUfOWQ.jpeg</td>\n",
       "      <td>.jpeg</td>\n",
       "      <td>(300, 225)</td>\n",
       "      <td>RGB</td>\n",
       "      <td>data/.raw-img/cane</td>\n",
       "    </tr>\n",
       "    <tr>\n",
       "      <th>1</th>\n",
       "      <td>OIP---A27bIBcUgX1qkbpZOPswHaFS.jpeg</td>\n",
       "      <td>.jpeg</td>\n",
       "      <td>(300, 214)</td>\n",
       "      <td>RGB</td>\n",
       "      <td>data/.raw-img/cane</td>\n",
       "    </tr>\n",
       "    <tr>\n",
       "      <th>2</th>\n",
       "      <td>OIP---cByAiEbIxIAleGo9AqOQAAAA.jpeg</td>\n",
       "      <td>.jpeg</td>\n",
       "      <td>(153, 300)</td>\n",
       "      <td>RGB</td>\n",
       "      <td>data/.raw-img/cane</td>\n",
       "    </tr>\n",
       "    <tr>\n",
       "      <th>3</th>\n",
       "      <td>OIP---ZIdwfUcJeVxnh47zppcQHaFj.jpeg</td>\n",
       "      <td>.jpeg</td>\n",
       "      <td>(300, 225)</td>\n",
       "      <td>RGB</td>\n",
       "      <td>data/.raw-img/cane</td>\n",
       "    </tr>\n",
       "    <tr>\n",
       "      <th>4</th>\n",
       "      <td>OIP---ZRsOF7zsMqhW30WeF8-AHaFj.jpeg</td>\n",
       "      <td>.jpeg</td>\n",
       "      <td>(300, 225)</td>\n",
       "      <td>RGB</td>\n",
       "      <td>data/.raw-img/cane</td>\n",
       "    </tr>\n",
       "  </tbody>\n",
       "</table>\n",
       "</div>"
      ],
      "text/plain": [
       "                             file_name extension        size mode  \\\n",
       "0      OIF-e2bexWrojgtQnAPPcUfOWQ.jpeg     .jpeg  (300, 225)  RGB   \n",
       "1  OIP---A27bIBcUgX1qkbpZOPswHaFS.jpeg     .jpeg  (300, 214)  RGB   \n",
       "2  OIP---cByAiEbIxIAleGo9AqOQAAAA.jpeg     .jpeg  (153, 300)  RGB   \n",
       "3  OIP---ZIdwfUcJeVxnh47zppcQHaFj.jpeg     .jpeg  (300, 225)  RGB   \n",
       "4  OIP---ZRsOF7zsMqhW30WeF8-AHaFj.jpeg     .jpeg  (300, 225)  RGB   \n",
       "\n",
       "                  dir  \n",
       "0  data/.raw-img/cane  \n",
       "1  data/.raw-img/cane  \n",
       "2  data/.raw-img/cane  \n",
       "3  data/.raw-img/cane  \n",
       "4  data/.raw-img/cane  "
      ]
     },
     "execution_count": 35,
     "metadata": {},
     "output_type": "execute_result"
    }
   ],
   "source": [
    "df.head()"
   ]
  },
  {
   "cell_type": "code",
   "execution_count": 39,
   "id": "6a8f8b5d-8876-444a-a92e-835c8fad0f12",
   "metadata": {},
   "outputs": [
    {
     "data": {
      "text/html": [
       "<div>\n",
       "<style scoped>\n",
       "    .dataframe tbody tr th:only-of-type {\n",
       "        vertical-align: middle;\n",
       "    }\n",
       "\n",
       "    .dataframe tbody tr th {\n",
       "        vertical-align: top;\n",
       "    }\n",
       "\n",
       "    .dataframe thead th {\n",
       "        text-align: right;\n",
       "    }\n",
       "</style>\n",
       "<table border=\"1\" class=\"dataframe\">\n",
       "  <thead>\n",
       "    <tr style=\"text-align: right;\">\n",
       "      <th></th>\n",
       "      <th>file_name</th>\n",
       "      <th>extension</th>\n",
       "      <th>size</th>\n",
       "      <th>mode</th>\n",
       "      <th>dir</th>\n",
       "      <th>width</th>\n",
       "      <th>height</th>\n",
       "    </tr>\n",
       "  </thead>\n",
       "  <tbody>\n",
       "    <tr>\n",
       "      <th>0</th>\n",
       "      <td>OIF-e2bexWrojgtQnAPPcUfOWQ.jpeg</td>\n",
       "      <td>.jpeg</td>\n",
       "      <td>(300, 225)</td>\n",
       "      <td>RGB</td>\n",
       "      <td>data/.raw-img/cane</td>\n",
       "      <td>300</td>\n",
       "      <td>225</td>\n",
       "    </tr>\n",
       "    <tr>\n",
       "      <th>1</th>\n",
       "      <td>OIP---A27bIBcUgX1qkbpZOPswHaFS.jpeg</td>\n",
       "      <td>.jpeg</td>\n",
       "      <td>(300, 214)</td>\n",
       "      <td>RGB</td>\n",
       "      <td>data/.raw-img/cane</td>\n",
       "      <td>300</td>\n",
       "      <td>214</td>\n",
       "    </tr>\n",
       "    <tr>\n",
       "      <th>2</th>\n",
       "      <td>OIP---cByAiEbIxIAleGo9AqOQAAAA.jpeg</td>\n",
       "      <td>.jpeg</td>\n",
       "      <td>(153, 300)</td>\n",
       "      <td>RGB</td>\n",
       "      <td>data/.raw-img/cane</td>\n",
       "      <td>153</td>\n",
       "      <td>300</td>\n",
       "    </tr>\n",
       "    <tr>\n",
       "      <th>3</th>\n",
       "      <td>OIP---ZIdwfUcJeVxnh47zppcQHaFj.jpeg</td>\n",
       "      <td>.jpeg</td>\n",
       "      <td>(300, 225)</td>\n",
       "      <td>RGB</td>\n",
       "      <td>data/.raw-img/cane</td>\n",
       "      <td>300</td>\n",
       "      <td>225</td>\n",
       "    </tr>\n",
       "    <tr>\n",
       "      <th>4</th>\n",
       "      <td>OIP---ZRsOF7zsMqhW30WeF8-AHaFj.jpeg</td>\n",
       "      <td>.jpeg</td>\n",
       "      <td>(300, 225)</td>\n",
       "      <td>RGB</td>\n",
       "      <td>data/.raw-img/cane</td>\n",
       "      <td>300</td>\n",
       "      <td>225</td>\n",
       "    </tr>\n",
       "  </tbody>\n",
       "</table>\n",
       "</div>"
      ],
      "text/plain": [
       "                             file_name extension        size mode  \\\n",
       "0      OIF-e2bexWrojgtQnAPPcUfOWQ.jpeg     .jpeg  (300, 225)  RGB   \n",
       "1  OIP---A27bIBcUgX1qkbpZOPswHaFS.jpeg     .jpeg  (300, 214)  RGB   \n",
       "2  OIP---cByAiEbIxIAleGo9AqOQAAAA.jpeg     .jpeg  (153, 300)  RGB   \n",
       "3  OIP---ZIdwfUcJeVxnh47zppcQHaFj.jpeg     .jpeg  (300, 225)  RGB   \n",
       "4  OIP---ZRsOF7zsMqhW30WeF8-AHaFj.jpeg     .jpeg  (300, 225)  RGB   \n",
       "\n",
       "                  dir  width  height  \n",
       "0  data/.raw-img/cane    300     225  \n",
       "1  data/.raw-img/cane    300     214  \n",
       "2  data/.raw-img/cane    153     300  \n",
       "3  data/.raw-img/cane    300     225  \n",
       "4  data/.raw-img/cane    300     225  "
      ]
     },
     "execution_count": 39,
     "metadata": {},
     "output_type": "execute_result"
    }
   ],
   "source": [
    "df[\"width\"] = df['size'].apply(lambda size: size[0])\n",
    "df[\"height\"] = df['size'].apply(lambda size: size[1])\n",
    "\n",
    "df.head()"
   ]
  },
  {
   "cell_type": "code",
   "execution_count": 40,
   "id": "56394212-f0b4-4924-b134-b6a3bfd6e312",
   "metadata": {},
   "outputs": [
    {
     "data": {
      "text/html": [
       "<div>\n",
       "<style scoped>\n",
       "    .dataframe tbody tr th:only-of-type {\n",
       "        vertical-align: middle;\n",
       "    }\n",
       "\n",
       "    .dataframe tbody tr th {\n",
       "        vertical-align: top;\n",
       "    }\n",
       "\n",
       "    .dataframe thead th {\n",
       "        text-align: right;\n",
       "    }\n",
       "</style>\n",
       "<table border=\"1\" class=\"dataframe\">\n",
       "  <thead>\n",
       "    <tr style=\"text-align: right;\">\n",
       "      <th></th>\n",
       "      <th>width</th>\n",
       "      <th>height</th>\n",
       "    </tr>\n",
       "  </thead>\n",
       "  <tbody>\n",
       "    <tr>\n",
       "      <th>count</th>\n",
       "      <td>26179.000000</td>\n",
       "      <td>26179.000000</td>\n",
       "    </tr>\n",
       "    <tr>\n",
       "      <th>mean</th>\n",
       "      <td>320.038810</td>\n",
       "      <td>252.630162</td>\n",
       "    </tr>\n",
       "    <tr>\n",
       "      <th>std</th>\n",
       "      <td>196.935326</td>\n",
       "      <td>148.403298</td>\n",
       "    </tr>\n",
       "    <tr>\n",
       "      <th>min</th>\n",
       "      <td>60.000000</td>\n",
       "      <td>57.000000</td>\n",
       "    </tr>\n",
       "    <tr>\n",
       "      <th>25%</th>\n",
       "      <td>300.000000</td>\n",
       "      <td>200.000000</td>\n",
       "    </tr>\n",
       "    <tr>\n",
       "      <th>50%</th>\n",
       "      <td>300.000000</td>\n",
       "      <td>225.000000</td>\n",
       "    </tr>\n",
       "    <tr>\n",
       "      <th>75%</th>\n",
       "      <td>300.000000</td>\n",
       "      <td>300.000000</td>\n",
       "    </tr>\n",
       "    <tr>\n",
       "      <th>max</th>\n",
       "      <td>6720.000000</td>\n",
       "      <td>6000.000000</td>\n",
       "    </tr>\n",
       "  </tbody>\n",
       "</table>\n",
       "</div>"
      ],
      "text/plain": [
       "              width        height\n",
       "count  26179.000000  26179.000000\n",
       "mean     320.038810    252.630162\n",
       "std      196.935326    148.403298\n",
       "min       60.000000     57.000000\n",
       "25%      300.000000    200.000000\n",
       "50%      300.000000    225.000000\n",
       "75%      300.000000    300.000000\n",
       "max     6720.000000   6000.000000"
      ]
     },
     "execution_count": 40,
     "metadata": {},
     "output_type": "execute_result"
    }
   ],
   "source": [
    "df.describe()"
   ]
  },
  {
   "cell_type": "code",
   "execution_count": 44,
   "id": "9a526ed5-09b1-4041-b2a3-706be84d9af9",
   "metadata": {},
   "outputs": [
    {
     "data": {
      "text/plain": [
       "<Axes: ylabel='Density'>"
      ]
     },
     "execution_count": 44,
     "metadata": {},
     "output_type": "execute_result"
    },
    {
     "data": {
      "image/png": "[encoded data removed]",
      "text/plain": [
       "<Figure size 640x480 with 1 Axes>"
      ]
     },
     "metadata": {},
     "output_type": "display_data"
    }
   ],
   "source": [
    "df['width'].plot(kind=\"kde\")"
   ]
  },
  {
   "cell_type": "code",
   "execution_count": 45,
   "id": "f93f2e2b-b6f4-46de-b437-71395811550b",
   "metadata": {},
   "outputs": [
    {
     "data": {
      "text/plain": [
       "<Axes: >"
      ]
     },
     "execution_count": 45,
     "metadata": {},
     "output_type": "execute_result"
    },
    {
     "data": {
      "image/png": "[encoded data removed]",
      "text/plain": [
       "<Figure size 640x480 with 1 Axes>"
      ]
     },
     "metadata": {},
     "output_type": "display_data"
    }
   ],
   "source": [
    "df['height'].plot(kind=\"box\")"
   ]
  },
  {
   "cell_type": "code",
   "execution_count": 47,
   "id": "829e3b85-f4fb-4b23-8a12-e5ef97c7f81c",
   "metadata": {},
   "outputs": [
    {
     "data": {
      "text/html": [
       "<div>\n",
       "<style scoped>\n",
       "    .dataframe tbody tr th:only-of-type {\n",
       "        vertical-align: middle;\n",
       "    }\n",
       "\n",
       "    .dataframe tbody tr th {\n",
       "        vertical-align: top;\n",
       "    }\n",
       "\n",
       "    .dataframe thead th {\n",
       "        text-align: right;\n",
       "    }\n",
       "</style>\n",
       "<table border=\"1\" class=\"dataframe\">\n",
       "  <thead>\n",
       "    <tr style=\"text-align: right;\">\n",
       "      <th></th>\n",
       "      <th>file_name</th>\n",
       "      <th>extension</th>\n",
       "      <th>size</th>\n",
       "      <th>mode</th>\n",
       "      <th>dir</th>\n",
       "      <th>width</th>\n",
       "      <th>height</th>\n",
       "    </tr>\n",
       "  </thead>\n",
       "  <tbody>\n",
       "    <tr>\n",
       "      <th>5105</th>\n",
       "      <td>OIP-4UmK-NKWl1fwEK9GfBSGKAAAAA.jpeg</td>\n",
       "      <td>.jpeg</td>\n",
       "      <td>(60, 57)</td>\n",
       "      <td>RGB</td>\n",
       "      <td>data/.raw-img/cavallo</td>\n",
       "      <td>60</td>\n",
       "      <td>57</td>\n",
       "    </tr>\n",
       "    <tr>\n",
       "      <th>5444</th>\n",
       "      <td>OIP-bT32YLeLizQNLnu4lcVGAAAAAA.jpeg</td>\n",
       "      <td>.jpeg</td>\n",
       "      <td>(60, 57)</td>\n",
       "      <td>RGB</td>\n",
       "      <td>data/.raw-img/cavallo</td>\n",
       "      <td>60</td>\n",
       "      <td>57</td>\n",
       "    </tr>\n",
       "    <tr>\n",
       "      <th>6105</th>\n",
       "      <td>OIP-jqjnI-BWj-9BkPeqZetiggAAAA.jpeg</td>\n",
       "      <td>.jpeg</td>\n",
       "      <td>(60, 57)</td>\n",
       "      <td>RGB</td>\n",
       "      <td>data/.raw-img/cavallo</td>\n",
       "      <td>60</td>\n",
       "      <td>57</td>\n",
       "    </tr>\n",
       "    <tr>\n",
       "      <th>6147</th>\n",
       "      <td>OIP-K8QgBSuaAkfMGBB_1C84uQAAAA.jpeg</td>\n",
       "      <td>.jpeg</td>\n",
       "      <td>(60, 57)</td>\n",
       "      <td>RGB</td>\n",
       "      <td>data/.raw-img/cavallo</td>\n",
       "      <td>60</td>\n",
       "      <td>57</td>\n",
       "    </tr>\n",
       "    <tr>\n",
       "      <th>7431</th>\n",
       "      <td>OIP-zVErTw8mSPohwjPxvw6ehgAAAA.jpeg</td>\n",
       "      <td>.jpeg</td>\n",
       "      <td>(60, 57)</td>\n",
       "      <td>RGB</td>\n",
       "      <td>data/.raw-img/cavallo</td>\n",
       "      <td>60</td>\n",
       "      <td>57</td>\n",
       "    </tr>\n",
       "  </tbody>\n",
       "</table>\n",
       "</div>"
      ],
      "text/plain": [
       "                                file_name extension      size mode  \\\n",
       "5105  OIP-4UmK-NKWl1fwEK9GfBSGKAAAAA.jpeg     .jpeg  (60, 57)  RGB   \n",
       "5444  OIP-bT32YLeLizQNLnu4lcVGAAAAAA.jpeg     .jpeg  (60, 57)  RGB   \n",
       "6105  OIP-jqjnI-BWj-9BkPeqZetiggAAAA.jpeg     .jpeg  (60, 57)  RGB   \n",
       "6147  OIP-K8QgBSuaAkfMGBB_1C84uQAAAA.jpeg     .jpeg  (60, 57)  RGB   \n",
       "7431  OIP-zVErTw8mSPohwjPxvw6ehgAAAA.jpeg     .jpeg  (60, 57)  RGB   \n",
       "\n",
       "                        dir  width  height  \n",
       "5105  data/.raw-img/cavallo     60      57  \n",
       "5444  data/.raw-img/cavallo     60      57  \n",
       "6105  data/.raw-img/cavallo     60      57  \n",
       "6147  data/.raw-img/cavallo     60      57  \n",
       "7431  data/.raw-img/cavallo     60      57  "
      ]
     },
     "execution_count": 47,
     "metadata": {},
     "output_type": "execute_result"
    }
   ],
   "source": [
    "df.loc[df.width==df.width.min()]"
   ]
  },
  {
   "cell_type": "code",
   "execution_count": 51,
   "id": "4f0c210f-c868-41e0-8c40-fad77fd0b2d4",
   "metadata": {},
   "outputs": [
    {
     "data": {
      "text/plain": [
       "<matplotlib.image.AxesImage at 0x181dcd68520>"
      ]
     },
     "execution_count": 51,
     "metadata": {},
     "output_type": "execute_result"
    },
    {
     "data": {
      "image/png": "[encoded data removed]",
      "text/plain": [
       "<Figure size 640x480 with 1 Axes>"
      ]
     },
     "metadata": {},
     "output_type": "display_data"
    }
   ],
   "source": [
    "path = \"data/.raw-img/cavallo/OIP-4UmK-NKWl1fwEK9GfBSGKAAAAA.jpeg\"\n",
    "\n",
    "img = Image.open(path)\n",
    "\n",
    "plt.imshow(img)"
   ]
  },
  {
   "cell_type": "code",
   "execution_count": 52,
   "id": "8c8d6856-0262-4a37-a8c9-d324469cedc1",
   "metadata": {},
   "outputs": [
    {
     "data": {
      "image/jpeg": "[encoded data removed]",
      "image/png": "[encoded data removed]",
      "text/plain": [
       "<PIL.Image.Image image mode=RGB size=128x128>"
      ]
     },
     "execution_count": 52,
     "metadata": {},
     "output_type": "execute_result"
    }
   ],
   "source": [
    "size = (128, 128)\n",
    "\n",
    "img.resize(size)"
   ]
  },
  {
   "cell_type": "code",
   "execution_count": null,
   "id": "52755346-2ff5-4010-a411-00e6b793f7b6",
   "metadata": {},
   "outputs": [],
   "source": []
  }
 ],
 "metadata": {
  "kernelspec": {
   "display_name": "Python 3 (ipykernel)",
   "language": "python",
   "name": "python3"
  },
  "language_info": {
   "codemirror_mode": {
    "name": "ipython",
    "version": 3
   },
   "file_extension": ".py",
   "mimetype": "text/x-python",
   "name": "python",
   "nbconvert_exporter": "python",
   "pygments_lexer": "ipython3",
   "version": "3.9.13"
  }
 },
 "nbformat": 4,
 "nbformat_minor": 5
}
